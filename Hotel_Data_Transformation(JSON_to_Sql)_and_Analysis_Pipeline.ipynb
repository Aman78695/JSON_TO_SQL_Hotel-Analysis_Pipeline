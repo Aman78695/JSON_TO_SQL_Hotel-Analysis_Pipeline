{
  "nbformat": 4,
  "nbformat_minor": 0,
  "metadata": {
    "colab": {
      "provenance": [],
      "authorship_tag": "ABX9TyNpdEFW9eeov25q6HAk92Fa",
      "include_colab_link": true
    },
    "kernelspec": {
      "name": "python3",
      "display_name": "Python 3"
    },
    "language_info": {
      "name": "python"
    }
  },
  "cells": [
    {
      "cell_type": "markdown",
      "metadata": {
        "id": "view-in-github",
        "colab_type": "text"
      },
      "source": [
        "<a href=\"https://colab.research.google.com/github/Aman78695/JSON_TO_SQL_Hotel-Analysis_Pipeline/blob/main/Hotel_Data_Transformation(JSON_to_Sql)_and_Analysis_Pipeline.ipynb\" target=\"_parent\"><img src=\"https://colab.research.google.com/assets/colab-badge.svg\" alt=\"Open In Colab\"/></a>"
      ]
    },
    {
      "cell_type": "code",
      "execution_count": null,
      "metadata": {
        "id": "bO6iGr3yvPTe"
      },
      "outputs": [],
      "source": [
        "import pandas as pd\n",
        "import json\n",
        "import numpy as np\n",
        "import matplotlib.pyplot as plt\n",
        "import seaborn as sns\n",
        "import plotly.express as px"
      ]
    },
    {
      "cell_type": "code",
      "source": [
        "df=pd.read_json('/content/dataset.json')"
      ],
      "metadata": {
        "id": "fr-xFVwgAnYx"
      },
      "execution_count": null,
      "outputs": []
    },
    {
      "cell_type": "code",
      "source": [
        "df.head()"
      ],
      "metadata": {
        "colab": {
          "base_uri": "https://localhost:8080/",
          "height": 704
        },
        "id": "5-Cz1tUgAvVk",
        "outputId": "f6b453cd-b159-48de-9953-78581d71c628"
      },
      "execution_count": null,
      "outputs": [
        {
          "output_type": "execute_result",
          "data": {
            "text/plain": [
              "     pid en_type                name category  agg_rating  \\\n",
              "0  60330   HOTEL  Royal Palace Hotel    hotel         5.0   \n",
              "1  59888   HOTEL    Ocean View Hotel    hotel         5.0   \n",
              "2  91560   HOTEL   Grand Plaza Hotel    hotel         5.0   \n",
              "3  30409   HOTEL   Sunset View Hotel    hotel         5.0   \n",
              "4  27489   HOTEL  Golden Sands Hotel    hotel         3.5   \n",
              "\n",
              "                        email facilities  inventory prices       lat  \\\n",
              "0  royalpalacehotel@gmail.com         []        NaN     [] -36.64943   \n",
              "1    oceanviewhotel@gmail.com         []        NaN     [] -18.59665   \n",
              "2   grandplazahotel@gmail.com         []       11.0     [] -15.74197   \n",
              "3   sunsetviewhotel@gmail.com         []        6.0     []  33.30524   \n",
              "4  goldensandshotel@gmail.com         []       12.0     [] -67.65205   \n",
              "\n",
              "       long  numberOfFeedbacks  \\\n",
              "0 -18.59665                  7   \n",
              "1 -15.74197                  1   \n",
              "2  33.30524                 15   \n",
              "3 -67.65205                  1   \n",
              "4 -92.26539                 42   \n",
              "\n",
              "                                            feedback  \\\n",
              "0  [{'pid': 950009, 'lang': 'en', 'loc_id': 60330...   \n",
              "1  [{'pid': 343722, 'lang': 'en', 'loc_id': 59888...   \n",
              "2  [{'pid': 333842, 'lang': 'en', 'loc_id': 91560...   \n",
              "3  [{'pid': 93565, 'lang': 'en', 'loc_id': 30409,...   \n",
              "4  [{'pid': 976906, 'lang': 'en', 'loc_id': 27489...   \n",
              "\n",
              "                                               Ftags       priceRange  \n",
              "0                                                 []              NaN  \n",
              "1                                                 []           ₹1,475  \n",
              "2                                                 []  ₹6,637 - ₹7,047  \n",
              "3                                                 []              NaN  \n",
              "4  [{'text': 'tree house', 'review_count': 3}, {'...    ₹901 - ₹1,475  "
            ],
            "text/html": [
              "\n",
              "  <div id=\"df-a3447f91-dd0b-4efb-a621-9005d3b36ac5\">\n",
              "    <div class=\"colab-df-container\">\n",
              "      <div>\n",
              "<style scoped>\n",
              "    .dataframe tbody tr th:only-of-type {\n",
              "        vertical-align: middle;\n",
              "    }\n",
              "\n",
              "    .dataframe tbody tr th {\n",
              "        vertical-align: top;\n",
              "    }\n",
              "\n",
              "    .dataframe thead th {\n",
              "        text-align: right;\n",
              "    }\n",
              "</style>\n",
              "<table border=\"1\" class=\"dataframe\">\n",
              "  <thead>\n",
              "    <tr style=\"text-align: right;\">\n",
              "      <th></th>\n",
              "      <th>pid</th>\n",
              "      <th>en_type</th>\n",
              "      <th>name</th>\n",
              "      <th>category</th>\n",
              "      <th>agg_rating</th>\n",
              "      <th>email</th>\n",
              "      <th>facilities</th>\n",
              "      <th>inventory</th>\n",
              "      <th>prices</th>\n",
              "      <th>lat</th>\n",
              "      <th>long</th>\n",
              "      <th>numberOfFeedbacks</th>\n",
              "      <th>feedback</th>\n",
              "      <th>Ftags</th>\n",
              "      <th>priceRange</th>\n",
              "    </tr>\n",
              "  </thead>\n",
              "  <tbody>\n",
              "    <tr>\n",
              "      <th>0</th>\n",
              "      <td>60330</td>\n",
              "      <td>HOTEL</td>\n",
              "      <td>Royal Palace Hotel</td>\n",
              "      <td>hotel</td>\n",
              "      <td>5.0</td>\n",
              "      <td>royalpalacehotel@gmail.com</td>\n",
              "      <td>[]</td>\n",
              "      <td>NaN</td>\n",
              "      <td>[]</td>\n",
              "      <td>-36.64943</td>\n",
              "      <td>-18.59665</td>\n",
              "      <td>7</td>\n",
              "      <td>[{'pid': 950009, 'lang': 'en', 'loc_id': 60330...</td>\n",
              "      <td>[]</td>\n",
              "      <td>NaN</td>\n",
              "    </tr>\n",
              "    <tr>\n",
              "      <th>1</th>\n",
              "      <td>59888</td>\n",
              "      <td>HOTEL</td>\n",
              "      <td>Ocean View Hotel</td>\n",
              "      <td>hotel</td>\n",
              "      <td>5.0</td>\n",
              "      <td>oceanviewhotel@gmail.com</td>\n",
              "      <td>[]</td>\n",
              "      <td>NaN</td>\n",
              "      <td>[]</td>\n",
              "      <td>-18.59665</td>\n",
              "      <td>-15.74197</td>\n",
              "      <td>1</td>\n",
              "      <td>[{'pid': 343722, 'lang': 'en', 'loc_id': 59888...</td>\n",
              "      <td>[]</td>\n",
              "      <td>₹1,475</td>\n",
              "    </tr>\n",
              "    <tr>\n",
              "      <th>2</th>\n",
              "      <td>91560</td>\n",
              "      <td>HOTEL</td>\n",
              "      <td>Grand Plaza Hotel</td>\n",
              "      <td>hotel</td>\n",
              "      <td>5.0</td>\n",
              "      <td>grandplazahotel@gmail.com</td>\n",
              "      <td>[]</td>\n",
              "      <td>11.0</td>\n",
              "      <td>[]</td>\n",
              "      <td>-15.74197</td>\n",
              "      <td>33.30524</td>\n",
              "      <td>15</td>\n",
              "      <td>[{'pid': 333842, 'lang': 'en', 'loc_id': 91560...</td>\n",
              "      <td>[]</td>\n",
              "      <td>₹6,637 - ₹7,047</td>\n",
              "    </tr>\n",
              "    <tr>\n",
              "      <th>3</th>\n",
              "      <td>30409</td>\n",
              "      <td>HOTEL</td>\n",
              "      <td>Sunset View Hotel</td>\n",
              "      <td>hotel</td>\n",
              "      <td>5.0</td>\n",
              "      <td>sunsetviewhotel@gmail.com</td>\n",
              "      <td>[]</td>\n",
              "      <td>6.0</td>\n",
              "      <td>[]</td>\n",
              "      <td>33.30524</td>\n",
              "      <td>-67.65205</td>\n",
              "      <td>1</td>\n",
              "      <td>[{'pid': 93565, 'lang': 'en', 'loc_id': 30409,...</td>\n",
              "      <td>[]</td>\n",
              "      <td>NaN</td>\n",
              "    </tr>\n",
              "    <tr>\n",
              "      <th>4</th>\n",
              "      <td>27489</td>\n",
              "      <td>HOTEL</td>\n",
              "      <td>Golden Sands Hotel</td>\n",
              "      <td>hotel</td>\n",
              "      <td>3.5</td>\n",
              "      <td>goldensandshotel@gmail.com</td>\n",
              "      <td>[]</td>\n",
              "      <td>12.0</td>\n",
              "      <td>[]</td>\n",
              "      <td>-67.65205</td>\n",
              "      <td>-92.26539</td>\n",
              "      <td>42</td>\n",
              "      <td>[{'pid': 976906, 'lang': 'en', 'loc_id': 27489...</td>\n",
              "      <td>[{'text': 'tree house', 'review_count': 3}, {'...</td>\n",
              "      <td>₹901 - ₹1,475</td>\n",
              "    </tr>\n",
              "  </tbody>\n",
              "</table>\n",
              "</div>\n",
              "      <button class=\"colab-df-convert\" onclick=\"convertToInteractive('df-a3447f91-dd0b-4efb-a621-9005d3b36ac5')\"\n",
              "              title=\"Convert this dataframe to an interactive table.\"\n",
              "              style=\"display:none;\">\n",
              "        \n",
              "  <svg xmlns=\"http://www.w3.org/2000/svg\" height=\"24px\"viewBox=\"0 0 24 24\"\n",
              "       width=\"24px\">\n",
              "    <path d=\"M0 0h24v24H0V0z\" fill=\"none\"/>\n",
              "    <path d=\"M18.56 5.44l.94 2.06.94-2.06 2.06-.94-2.06-.94-.94-2.06-.94 2.06-2.06.94zm-11 1L8.5 8.5l.94-2.06 2.06-.94-2.06-.94L8.5 2.5l-.94 2.06-2.06.94zm10 10l.94 2.06.94-2.06 2.06-.94-2.06-.94-.94-2.06-.94 2.06-2.06.94z\"/><path d=\"M17.41 7.96l-1.37-1.37c-.4-.4-.92-.59-1.43-.59-.52 0-1.04.2-1.43.59L10.3 9.45l-7.72 7.72c-.78.78-.78 2.05 0 2.83L4 21.41c.39.39.9.59 1.41.59.51 0 1.02-.2 1.41-.59l7.78-7.78 2.81-2.81c.8-.78.8-2.07 0-2.86zM5.41 20L4 18.59l7.72-7.72 1.47 1.35L5.41 20z\"/>\n",
              "  </svg>\n",
              "      </button>\n",
              "      \n",
              "  <style>\n",
              "    .colab-df-container {\n",
              "      display:flex;\n",
              "      flex-wrap:wrap;\n",
              "      gap: 12px;\n",
              "    }\n",
              "\n",
              "    .colab-df-convert {\n",
              "      background-color: #E8F0FE;\n",
              "      border: none;\n",
              "      border-radius: 50%;\n",
              "      cursor: pointer;\n",
              "      display: none;\n",
              "      fill: #1967D2;\n",
              "      height: 32px;\n",
              "      padding: 0 0 0 0;\n",
              "      width: 32px;\n",
              "    }\n",
              "\n",
              "    .colab-df-convert:hover {\n",
              "      background-color: #E2EBFA;\n",
              "      box-shadow: 0px 1px 2px rgba(60, 64, 67, 0.3), 0px 1px 3px 1px rgba(60, 64, 67, 0.15);\n",
              "      fill: #174EA6;\n",
              "    }\n",
              "\n",
              "    [theme=dark] .colab-df-convert {\n",
              "      background-color: #3B4455;\n",
              "      fill: #D2E3FC;\n",
              "    }\n",
              "\n",
              "    [theme=dark] .colab-df-convert:hover {\n",
              "      background-color: #434B5C;\n",
              "      box-shadow: 0px 1px 3px 1px rgba(0, 0, 0, 0.15);\n",
              "      filter: drop-shadow(0px 1px 2px rgba(0, 0, 0, 0.3));\n",
              "      fill: #FFFFFF;\n",
              "    }\n",
              "  </style>\n",
              "\n",
              "      <script>\n",
              "        const buttonEl =\n",
              "          document.querySelector('#df-a3447f91-dd0b-4efb-a621-9005d3b36ac5 button.colab-df-convert');\n",
              "        buttonEl.style.display =\n",
              "          google.colab.kernel.accessAllowed ? 'block' : 'none';\n",
              "\n",
              "        async function convertToInteractive(key) {\n",
              "          const element = document.querySelector('#df-a3447f91-dd0b-4efb-a621-9005d3b36ac5');\n",
              "          const dataTable =\n",
              "            await google.colab.kernel.invokeFunction('convertToInteractive',\n",
              "                                                     [key], {});\n",
              "          if (!dataTable) return;\n",
              "\n",
              "          const docLinkHtml = 'Like what you see? Visit the ' +\n",
              "            '<a target=\"_blank\" href=https://colab.research.google.com/notebooks/data_table.ipynb>data table notebook</a>'\n",
              "            + ' to learn more about interactive tables.';\n",
              "          element.innerHTML = '';\n",
              "          dataTable['output_type'] = 'display_data';\n",
              "          await google.colab.output.renderOutput(dataTable, element);\n",
              "          const docLink = document.createElement('div');\n",
              "          docLink.innerHTML = docLinkHtml;\n",
              "          element.appendChild(docLink);\n",
              "        }\n",
              "      </script>\n",
              "    </div>\n",
              "  </div>\n",
              "  "
            ]
          },
          "metadata": {},
          "execution_count": 247
        }
      ]
    },
    {
      "cell_type": "code",
      "source": [
        "df.shape"
      ],
      "metadata": {
        "colab": {
          "base_uri": "https://localhost:8080/"
        },
        "id": "uotuCYz_EcAC",
        "outputId": "ba3bca1e-2dbc-4df8-f90f-73bb4841cc6a"
      },
      "execution_count": null,
      "outputs": [
        {
          "output_type": "execute_result",
          "data": {
            "text/plain": [
              "(12, 15)"
            ]
          },
          "metadata": {},
          "execution_count": 248
        }
      ]
    },
    {
      "cell_type": "code",
      "source": [
        "df.info()"
      ],
      "metadata": {
        "id": "y6Rbwu9c6UZb"
      },
      "execution_count": null,
      "outputs": []
    },
    {
      "cell_type": "code",
      "source": [
        "df.describe()"
      ],
      "metadata": {
        "id": "me0GUpxP6YNB"
      },
      "execution_count": null,
      "outputs": []
    },
    {
      "cell_type": "code",
      "source": [
        "df.isnull().sum()"
      ],
      "metadata": {
        "colab": {
          "base_uri": "https://localhost:8080/"
        },
        "id": "RlP8t2J56aps",
        "outputId": "7ed458b6-bb65-46f9-804e-2c3698da410d"
      },
      "execution_count": null,
      "outputs": [
        {
          "output_type": "execute_result",
          "data": {
            "text/plain": [
              "loc_id               0\n",
              "en_type              0\n",
              "name                 0\n",
              "category             0\n",
              "agg_rating           0\n",
              "lat                  0\n",
              "long                 0\n",
              "numberOfFeedbacks    0\n",
              "feedback             0\n",
              "MIN_price            0\n",
              "Max_price            0\n",
              "dtype: int64"
            ]
          },
          "metadata": {},
          "execution_count": 313
        }
      ]
    },
    {
      "cell_type": "markdown",
      "source": [
        "From the provided data, we can identify several fields that would be interesting for the Travee team:\n",
        "\n",
        "1. Hotel details: The dataset includes information such as the hotel name, category, aggregate rating, email, and price range. These details provide an overview of each hotel.\n",
        "\n",
        "2. Facilities: The \"facilities\" field contains information about the facilities available at each hotel. However, the current dataset shows empty brackets ([]), indicating that no facilities are specified for the hotels. This could be considered an inconsistency or missing information that needs to be addressed.\n",
        "\n",
        "3. Inventory: The \"inventory\" field represents the number of rooms available at each hotel. It is expressed as a numeric value. In some cases, the value is missing (NaN), indicating that the inventory information is not available for those hotels.\n",
        "\n",
        "4. Prices: The \"prices\" field provides information about the pricing of the hotels. However, in the given dataset, the prices are represented as empty brackets ([]), which suggests missing or incomplete pricing information.\n",
        "\n",
        "5. Location: The dataset includes latitude and longitude coordinates for each hotel, allowing for geographical analysis and mapping.\n",
        "\n",
        "6. Feedback: The \"feedback\" column contains feedback information for each hotel, including details such as the feedback ID, language, location ID, rating, text, user, and feedback title. The feedback entries are nested within the column and need to be expanded into individual rows for easier analysis.\n",
        "\n",
        "It is important to note that the current dataset seems to have some inconsistencies and missing information in fields like facilities and prices. These inconsistencies need to be addressed during the data transformation and cleaning process to ensure accurate analysis and meaningful insights."
      ],
      "metadata": {
        "id": "Tt6WeYyZSu9w"
      }
    },
    {
      "cell_type": "markdown",
      "source": [
        "### Data Cleaning and preprocessing of the main DataFrame"
      ],
      "metadata": {
        "id": "EKfjjdP6SI2i"
      }
    },
    {
      "cell_type": "code",
      "source": [
        "df.info()"
      ],
      "metadata": {
        "colab": {
          "base_uri": "https://localhost:8080/"
        },
        "id": "27SwRfTIS2rg",
        "outputId": "ce64e6a1-eda6-4c69-8c1d-aa82adacf695"
      },
      "execution_count": null,
      "outputs": [
        {
          "output_type": "stream",
          "name": "stdout",
          "text": [
            "<class 'pandas.core.frame.DataFrame'>\n",
            "RangeIndex: 12 entries, 0 to 11\n",
            "Data columns (total 15 columns):\n",
            " #   Column             Non-Null Count  Dtype  \n",
            "---  ------             --------------  -----  \n",
            " 0   pid                12 non-null     int64  \n",
            " 1   en_type            12 non-null     object \n",
            " 2   name               12 non-null     object \n",
            " 3   category           12 non-null     object \n",
            " 4   agg_rating         10 non-null     float64\n",
            " 5   email              12 non-null     object \n",
            " 6   facilities         12 non-null     object \n",
            " 7   inventory          8 non-null      float64\n",
            " 8   prices             12 non-null     object \n",
            " 9   lat                12 non-null     float64\n",
            " 10  long               12 non-null     float64\n",
            " 11  numberOfFeedbacks  12 non-null     int64  \n",
            " 12  feedback           12 non-null     object \n",
            " 13  Ftags              12 non-null     object \n",
            " 14  priceRange         6 non-null      object \n",
            "dtypes: float64(4), int64(2), object(9)\n",
            "memory usage: 1.5+ KB\n"
          ]
        }
      ]
    },
    {
      "cell_type": "markdown",
      "source": [
        "- Extracting MIN_price and Max_price from priceRange column"
      ],
      "metadata": {
        "id": "G5I6vpUXRdwz"
      }
    },
    {
      "cell_type": "code",
      "source": [
        "df['priceRange']=df['priceRange'].str.replace('₹','')"
      ],
      "metadata": {
        "id": "wHv7ailiV4ez"
      },
      "execution_count": null,
      "outputs": []
    },
    {
      "cell_type": "code",
      "source": [
        "df['priceRange']=df['priceRange'].str.replace(',','')"
      ],
      "metadata": {
        "id": "Sf_T9cRmnQ3D"
      },
      "execution_count": null,
      "outputs": []
    },
    {
      "cell_type": "code",
      "source": [
        "df['priceRange'][2]"
      ],
      "metadata": {
        "colab": {
          "base_uri": "https://localhost:8080/",
          "height": 36
        },
        "id": "MGpUFZDFm5oh",
        "outputId": "4a19b5d4-3196-457d-82f0-cca29689e7e1"
      },
      "execution_count": null,
      "outputs": [
        {
          "output_type": "execute_result",
          "data": {
            "text/plain": [
              "'6637 - 7047'"
            ],
            "application/vnd.google.colaboratory.intrinsic+json": {
              "type": "string"
            }
          },
          "metadata": {},
          "execution_count": 252
        }
      ]
    },
    {
      "cell_type": "code",
      "source": [
        "import re"
      ],
      "metadata": {
        "id": "cGLZXAH9Hraw"
      },
      "execution_count": null,
      "outputs": []
    },
    {
      "cell_type": "code",
      "source": [
        "int(re.findall(r'\\d+', '6637 - 7047')[0])"
      ],
      "metadata": {
        "colab": {
          "base_uri": "https://localhost:8080/"
        },
        "id": "dReQzH2JqCfC",
        "outputId": "1e6f9962-5b91-49c6-9f28-e07452215c2f"
      },
      "execution_count": null,
      "outputs": [
        {
          "output_type": "execute_result",
          "data": {
            "text/plain": [
              "6637"
            ]
          },
          "metadata": {},
          "execution_count": 254
        }
      ]
    },
    {
      "cell_type": "code",
      "source": [
        "df['MIN_price']=df['priceRange'].apply(lambda x:int(re.findall(r'\\d+', x)[0]) if not pd.isna(x) else np.nan)"
      ],
      "metadata": {
        "id": "K5mdZPCVpKtX"
      },
      "execution_count": null,
      "outputs": []
    },
    {
      "cell_type": "code",
      "source": [
        "df['Max_price']=df['priceRange'].apply(lambda x:int(re.findall(r'\\d+', x)[1])if (not pd.isna(x) and len(re.findall(r'\\d+', x)) > 1) else np.nan)"
      ],
      "metadata": {
        "id": "qpaPnKTJrjqG"
      },
      "execution_count": null,
      "outputs": []
    },
    {
      "cell_type": "code",
      "source": [
        "df['priceRange']"
      ],
      "metadata": {
        "colab": {
          "base_uri": "https://localhost:8080/"
        },
        "id": "olhVE6xUrAg-",
        "outputId": "b3101240-860e-4730-b20b-f143a60a056e"
      },
      "execution_count": null,
      "outputs": [
        {
          "output_type": "execute_result",
          "data": {
            "text/plain": [
              "0             NaN\n",
              "1            1475\n",
              "2     6637 - 7047\n",
              "3             NaN\n",
              "4      901 - 1475\n",
              "5             NaN\n",
              "6      819 - 1557\n",
              "7             NaN\n",
              "8     3196 - 4507\n",
              "9     1885 - 2130\n",
              "10            NaN\n",
              "11            NaN\n",
              "Name: priceRange, dtype: object"
            ]
          },
          "metadata": {},
          "execution_count": 257
        }
      ]
    },
    {
      "cell_type": "code",
      "source": [
        "df.drop(columns=['priceRange'],inplace=True)"
      ],
      "metadata": {
        "id": "xwzLlwijshOc"
      },
      "execution_count": null,
      "outputs": []
    },
    {
      "cell_type": "code",
      "source": [
        "df.head()"
      ],
      "metadata": {
        "colab": {
          "base_uri": "https://localhost:8080/",
          "height": 704
        },
        "id": "8MPfOf1mH7si",
        "outputId": "2ed0d957-ff94-49a0-baf7-1ba5f313f297"
      },
      "execution_count": null,
      "outputs": [
        {
          "output_type": "execute_result",
          "data": {
            "text/plain": [
              "     pid en_type                name category  agg_rating  \\\n",
              "0  60330   HOTEL  Royal Palace Hotel    hotel         5.0   \n",
              "1  59888   HOTEL    Ocean View Hotel    hotel         5.0   \n",
              "2  91560   HOTEL   Grand Plaza Hotel    hotel         5.0   \n",
              "3  30409   HOTEL   Sunset View Hotel    hotel         5.0   \n",
              "4  27489   HOTEL  Golden Sands Hotel    hotel         3.5   \n",
              "\n",
              "                        email facilities  inventory prices       lat  \\\n",
              "0  royalpalacehotel@gmail.com         []        NaN     [] -36.64943   \n",
              "1    oceanviewhotel@gmail.com         []        NaN     [] -18.59665   \n",
              "2   grandplazahotel@gmail.com         []       11.0     [] -15.74197   \n",
              "3   sunsetviewhotel@gmail.com         []        6.0     []  33.30524   \n",
              "4  goldensandshotel@gmail.com         []       12.0     [] -67.65205   \n",
              "\n",
              "       long  numberOfFeedbacks  \\\n",
              "0 -18.59665                  7   \n",
              "1 -15.74197                  1   \n",
              "2  33.30524                 15   \n",
              "3 -67.65205                  1   \n",
              "4 -92.26539                 42   \n",
              "\n",
              "                                            feedback  \\\n",
              "0  [{'pid': 950009, 'lang': 'en', 'loc_id': 60330...   \n",
              "1  [{'pid': 343722, 'lang': 'en', 'loc_id': 59888...   \n",
              "2  [{'pid': 333842, 'lang': 'en', 'loc_id': 91560...   \n",
              "3  [{'pid': 93565, 'lang': 'en', 'loc_id': 30409,...   \n",
              "4  [{'pid': 976906, 'lang': 'en', 'loc_id': 27489...   \n",
              "\n",
              "                                               Ftags  MIN_price  Max_price  \n",
              "0                                                 []        NaN        NaN  \n",
              "1                                                 []     1475.0        NaN  \n",
              "2                                                 []     6637.0     7047.0  \n",
              "3                                                 []        NaN        NaN  \n",
              "4  [{'text': 'tree house', 'review_count': 3}, {'...      901.0     1475.0  "
            ],
            "text/html": [
              "\n",
              "  <div id=\"df-30bc6661-aae4-45ee-9e41-7627e866fed0\">\n",
              "    <div class=\"colab-df-container\">\n",
              "      <div>\n",
              "<style scoped>\n",
              "    .dataframe tbody tr th:only-of-type {\n",
              "        vertical-align: middle;\n",
              "    }\n",
              "\n",
              "    .dataframe tbody tr th {\n",
              "        vertical-align: top;\n",
              "    }\n",
              "\n",
              "    .dataframe thead th {\n",
              "        text-align: right;\n",
              "    }\n",
              "</style>\n",
              "<table border=\"1\" class=\"dataframe\">\n",
              "  <thead>\n",
              "    <tr style=\"text-align: right;\">\n",
              "      <th></th>\n",
              "      <th>pid</th>\n",
              "      <th>en_type</th>\n",
              "      <th>name</th>\n",
              "      <th>category</th>\n",
              "      <th>agg_rating</th>\n",
              "      <th>email</th>\n",
              "      <th>facilities</th>\n",
              "      <th>inventory</th>\n",
              "      <th>prices</th>\n",
              "      <th>lat</th>\n",
              "      <th>long</th>\n",
              "      <th>numberOfFeedbacks</th>\n",
              "      <th>feedback</th>\n",
              "      <th>Ftags</th>\n",
              "      <th>MIN_price</th>\n",
              "      <th>Max_price</th>\n",
              "    </tr>\n",
              "  </thead>\n",
              "  <tbody>\n",
              "    <tr>\n",
              "      <th>0</th>\n",
              "      <td>60330</td>\n",
              "      <td>HOTEL</td>\n",
              "      <td>Royal Palace Hotel</td>\n",
              "      <td>hotel</td>\n",
              "      <td>5.0</td>\n",
              "      <td>royalpalacehotel@gmail.com</td>\n",
              "      <td>[]</td>\n",
              "      <td>NaN</td>\n",
              "      <td>[]</td>\n",
              "      <td>-36.64943</td>\n",
              "      <td>-18.59665</td>\n",
              "      <td>7</td>\n",
              "      <td>[{'pid': 950009, 'lang': 'en', 'loc_id': 60330...</td>\n",
              "      <td>[]</td>\n",
              "      <td>NaN</td>\n",
              "      <td>NaN</td>\n",
              "    </tr>\n",
              "    <tr>\n",
              "      <th>1</th>\n",
              "      <td>59888</td>\n",
              "      <td>HOTEL</td>\n",
              "      <td>Ocean View Hotel</td>\n",
              "      <td>hotel</td>\n",
              "      <td>5.0</td>\n",
              "      <td>oceanviewhotel@gmail.com</td>\n",
              "      <td>[]</td>\n",
              "      <td>NaN</td>\n",
              "      <td>[]</td>\n",
              "      <td>-18.59665</td>\n",
              "      <td>-15.74197</td>\n",
              "      <td>1</td>\n",
              "      <td>[{'pid': 343722, 'lang': 'en', 'loc_id': 59888...</td>\n",
              "      <td>[]</td>\n",
              "      <td>1475.0</td>\n",
              "      <td>NaN</td>\n",
              "    </tr>\n",
              "    <tr>\n",
              "      <th>2</th>\n",
              "      <td>91560</td>\n",
              "      <td>HOTEL</td>\n",
              "      <td>Grand Plaza Hotel</td>\n",
              "      <td>hotel</td>\n",
              "      <td>5.0</td>\n",
              "      <td>grandplazahotel@gmail.com</td>\n",
              "      <td>[]</td>\n",
              "      <td>11.0</td>\n",
              "      <td>[]</td>\n",
              "      <td>-15.74197</td>\n",
              "      <td>33.30524</td>\n",
              "      <td>15</td>\n",
              "      <td>[{'pid': 333842, 'lang': 'en', 'loc_id': 91560...</td>\n",
              "      <td>[]</td>\n",
              "      <td>6637.0</td>\n",
              "      <td>7047.0</td>\n",
              "    </tr>\n",
              "    <tr>\n",
              "      <th>3</th>\n",
              "      <td>30409</td>\n",
              "      <td>HOTEL</td>\n",
              "      <td>Sunset View Hotel</td>\n",
              "      <td>hotel</td>\n",
              "      <td>5.0</td>\n",
              "      <td>sunsetviewhotel@gmail.com</td>\n",
              "      <td>[]</td>\n",
              "      <td>6.0</td>\n",
              "      <td>[]</td>\n",
              "      <td>33.30524</td>\n",
              "      <td>-67.65205</td>\n",
              "      <td>1</td>\n",
              "      <td>[{'pid': 93565, 'lang': 'en', 'loc_id': 30409,...</td>\n",
              "      <td>[]</td>\n",
              "      <td>NaN</td>\n",
              "      <td>NaN</td>\n",
              "    </tr>\n",
              "    <tr>\n",
              "      <th>4</th>\n",
              "      <td>27489</td>\n",
              "      <td>HOTEL</td>\n",
              "      <td>Golden Sands Hotel</td>\n",
              "      <td>hotel</td>\n",
              "      <td>3.5</td>\n",
              "      <td>goldensandshotel@gmail.com</td>\n",
              "      <td>[]</td>\n",
              "      <td>12.0</td>\n",
              "      <td>[]</td>\n",
              "      <td>-67.65205</td>\n",
              "      <td>-92.26539</td>\n",
              "      <td>42</td>\n",
              "      <td>[{'pid': 976906, 'lang': 'en', 'loc_id': 27489...</td>\n",
              "      <td>[{'text': 'tree house', 'review_count': 3}, {'...</td>\n",
              "      <td>901.0</td>\n",
              "      <td>1475.0</td>\n",
              "    </tr>\n",
              "  </tbody>\n",
              "</table>\n",
              "</div>\n",
              "      <button class=\"colab-df-convert\" onclick=\"convertToInteractive('df-30bc6661-aae4-45ee-9e41-7627e866fed0')\"\n",
              "              title=\"Convert this dataframe to an interactive table.\"\n",
              "              style=\"display:none;\">\n",
              "        \n",
              "  <svg xmlns=\"http://www.w3.org/2000/svg\" height=\"24px\"viewBox=\"0 0 24 24\"\n",
              "       width=\"24px\">\n",
              "    <path d=\"M0 0h24v24H0V0z\" fill=\"none\"/>\n",
              "    <path d=\"M18.56 5.44l.94 2.06.94-2.06 2.06-.94-2.06-.94-.94-2.06-.94 2.06-2.06.94zm-11 1L8.5 8.5l.94-2.06 2.06-.94-2.06-.94L8.5 2.5l-.94 2.06-2.06.94zm10 10l.94 2.06.94-2.06 2.06-.94-2.06-.94-.94-2.06-.94 2.06-2.06.94z\"/><path d=\"M17.41 7.96l-1.37-1.37c-.4-.4-.92-.59-1.43-.59-.52 0-1.04.2-1.43.59L10.3 9.45l-7.72 7.72c-.78.78-.78 2.05 0 2.83L4 21.41c.39.39.9.59 1.41.59.51 0 1.02-.2 1.41-.59l7.78-7.78 2.81-2.81c.8-.78.8-2.07 0-2.86zM5.41 20L4 18.59l7.72-7.72 1.47 1.35L5.41 20z\"/>\n",
              "  </svg>\n",
              "      </button>\n",
              "      \n",
              "  <style>\n",
              "    .colab-df-container {\n",
              "      display:flex;\n",
              "      flex-wrap:wrap;\n",
              "      gap: 12px;\n",
              "    }\n",
              "\n",
              "    .colab-df-convert {\n",
              "      background-color: #E8F0FE;\n",
              "      border: none;\n",
              "      border-radius: 50%;\n",
              "      cursor: pointer;\n",
              "      display: none;\n",
              "      fill: #1967D2;\n",
              "      height: 32px;\n",
              "      padding: 0 0 0 0;\n",
              "      width: 32px;\n",
              "    }\n",
              "\n",
              "    .colab-df-convert:hover {\n",
              "      background-color: #E2EBFA;\n",
              "      box-shadow: 0px 1px 2px rgba(60, 64, 67, 0.3), 0px 1px 3px 1px rgba(60, 64, 67, 0.15);\n",
              "      fill: #174EA6;\n",
              "    }\n",
              "\n",
              "    [theme=dark] .colab-df-convert {\n",
              "      background-color: #3B4455;\n",
              "      fill: #D2E3FC;\n",
              "    }\n",
              "\n",
              "    [theme=dark] .colab-df-convert:hover {\n",
              "      background-color: #434B5C;\n",
              "      box-shadow: 0px 1px 3px 1px rgba(0, 0, 0, 0.15);\n",
              "      filter: drop-shadow(0px 1px 2px rgba(0, 0, 0, 0.3));\n",
              "      fill: #FFFFFF;\n",
              "    }\n",
              "  </style>\n",
              "\n",
              "      <script>\n",
              "        const buttonEl =\n",
              "          document.querySelector('#df-30bc6661-aae4-45ee-9e41-7627e866fed0 button.colab-df-convert');\n",
              "        buttonEl.style.display =\n",
              "          google.colab.kernel.accessAllowed ? 'block' : 'none';\n",
              "\n",
              "        async function convertToInteractive(key) {\n",
              "          const element = document.querySelector('#df-30bc6661-aae4-45ee-9e41-7627e866fed0');\n",
              "          const dataTable =\n",
              "            await google.colab.kernel.invokeFunction('convertToInteractive',\n",
              "                                                     [key], {});\n",
              "          if (!dataTable) return;\n",
              "\n",
              "          const docLinkHtml = 'Like what you see? Visit the ' +\n",
              "            '<a target=\"_blank\" href=https://colab.research.google.com/notebooks/data_table.ipynb>data table notebook</a>'\n",
              "            + ' to learn more about interactive tables.';\n",
              "          element.innerHTML = '';\n",
              "          dataTable['output_type'] = 'display_data';\n",
              "          await google.colab.output.renderOutput(dataTable, element);\n",
              "          const docLink = document.createElement('div');\n",
              "          docLink.innerHTML = docLinkHtml;\n",
              "          element.appendChild(docLink);\n",
              "        }\n",
              "      </script>\n",
              "    </div>\n",
              "  </div>\n",
              "  "
            ]
          },
          "metadata": {},
          "execution_count": 259
        }
      ]
    },
    {
      "cell_type": "markdown",
      "source": [
        "- Drop Unnecessary Columns:\n",
        "\n",
        "If certain columns are not relevant for our analysis or SQL tables, we can drop them using the drop() method."
      ],
      "metadata": {
        "id": "FaURkvZdIyte"
      }
    },
    {
      "cell_type": "code",
      "source": [
        "df.drop(columns=['email'],inplace=True)"
      ],
      "metadata": {
        "id": "R-2LGtnUI9Pp"
      },
      "execution_count": null,
      "outputs": []
    },
    {
      "cell_type": "code",
      "source": [
        "df.drop(columns=['inventory'],inplace=True)"
      ],
      "metadata": {
        "id": "uKdAJ79LJQfM"
      },
      "execution_count": null,
      "outputs": []
    },
    {
      "cell_type": "code",
      "source": [
        "df.drop(columns=['Ftags'],inplace=True)"
      ],
      "metadata": {
        "id": "8pACznpnNCr-"
      },
      "execution_count": null,
      "outputs": []
    },
    {
      "cell_type": "code",
      "source": [
        "df.drop(columns=['facilities'],inplace=True)"
      ],
      "metadata": {
        "id": "GLqYLkV7OZxw"
      },
      "execution_count": null,
      "outputs": []
    },
    {
      "cell_type": "code",
      "source": [
        "df.drop(columns=['prices'],inplace=True)"
      ],
      "metadata": {
        "id": "pVTBNx26Ofyl"
      },
      "execution_count": null,
      "outputs": []
    },
    {
      "cell_type": "markdown",
      "source": [
        "- Handle Missing Values:\n",
        "\n",
        "Identifing columns with missing values and decide on the appropriate strategy to handle them. For numeric columns like 'MIN_price' and 'Max_price', we can fill the missing values with appropriate defaults or use interpolation methods."
      ],
      "metadata": {
        "id": "qsLo4xnkLhsq"
      }
    },
    {
      "cell_type": "code",
      "source": [
        "#filling the nan values with 0\n",
        "df['MIN_price']=df['MIN_price'].fillna(0)"
      ],
      "metadata": {
        "id": "Wy2k8FtOMA1P"
      },
      "execution_count": null,
      "outputs": []
    },
    {
      "cell_type": "code",
      "source": [
        "#filling the nan values with 0\n",
        "df['Max_price']=df['Max_price'].fillna(0)"
      ],
      "metadata": {
        "id": "UaaC9i3AP-Me"
      },
      "execution_count": null,
      "outputs": []
    },
    {
      "cell_type": "code",
      "source": [
        "df['agg_rating']=df['agg_rating'].fillna(0)"
      ],
      "metadata": {
        "id": "ZnEEodmE6JNN"
      },
      "execution_count": null,
      "outputs": []
    },
    {
      "cell_type": "markdown",
      "source": [
        "- Renaming the column name"
      ],
      "metadata": {
        "id": "zQ81wbHVUhSp"
      }
    },
    {
      "cell_type": "code",
      "source": [
        "#renaming columns\n",
        "df=df.rename(columns={'pid':'loc_id'})"
      ],
      "metadata": {
        "id": "tjyfJvzKUmA2"
      },
      "execution_count": null,
      "outputs": []
    },
    {
      "cell_type": "markdown",
      "source": [
        "- Standardize Data Formats:\n",
        "\n",
        "If the 'feedback' column contains nested JSON data, we can consider normalizing it to have a flat structure for better analysis. We can use the pd.json_normalize() function to achieve this."
      ],
      "metadata": {
        "id": "rXFi73nhMNdI"
      }
    },
    {
      "cell_type": "code",
      "source": [
        "pd.json_normalize(df['feedback'][0])"
      ],
      "metadata": {
        "colab": {
          "base_uri": "https://localhost:8080/",
          "height": 313
        },
        "id": "j-NI92IxMPxL",
        "outputId": "33658a07-dc2e-40f0-dd47-e036af72d87c"
      },
      "execution_count": null,
      "outputs": [
        {
          "output_type": "execute_result",
          "data": {
            "text/plain": [
              "      pid lang  loc_id rating en_type  \\\n",
              "0  950009   en   60330      5  review   \n",
              "1  175995   en   60330      5  review   \n",
              "2  922855   en   60330      5  review   \n",
              "3   27080   en   60330      5  review   \n",
              "4  905095   en   60330      4  review   \n",
              "5  255483   en   60330      5  review   \n",
              "6  716852   fr   60330      5  review   \n",
              "\n",
              "                                           free_text  user  \\\n",
              "0  The room was clean and comfortable. I had a gr...  None   \n",
              "1  The staff was friendly and helpful. They made ...  None   \n",
              "2  The hotel had a great rooftop bar with stunnin...  None   \n",
              "3  The breakfast buffet was delicious and had a g...  None   \n",
              "4  The location of the hotel was perfect for a be...  None   \n",
              "5  The hotel had a great gym and pool. I was able...  None   \n",
              "6  The breakfast buffet was delicious and had a g...  None   \n",
              "\n",
              "                                      feedback_title subrating  \n",
              "0                               Good stay good value        []  \n",
              "1                                          Excellent        []  \n",
              "2                                          Excellent        []  \n",
              "3                            Excellent place to stay        []  \n",
              "4                                   Enjoyed the Stay        []  \n",
              "5                                Nice place to visit        []  \n",
              "6  Une excellente surprise une fois que l'on a tr...        []  "
            ],
            "text/html": [
              "\n",
              "  <div id=\"df-ff77a754-a12c-4026-ba45-a2b2b2647372\">\n",
              "    <div class=\"colab-df-container\">\n",
              "      <div>\n",
              "<style scoped>\n",
              "    .dataframe tbody tr th:only-of-type {\n",
              "        vertical-align: middle;\n",
              "    }\n",
              "\n",
              "    .dataframe tbody tr th {\n",
              "        vertical-align: top;\n",
              "    }\n",
              "\n",
              "    .dataframe thead th {\n",
              "        text-align: right;\n",
              "    }\n",
              "</style>\n",
              "<table border=\"1\" class=\"dataframe\">\n",
              "  <thead>\n",
              "    <tr style=\"text-align: right;\">\n",
              "      <th></th>\n",
              "      <th>pid</th>\n",
              "      <th>lang</th>\n",
              "      <th>loc_id</th>\n",
              "      <th>rating</th>\n",
              "      <th>en_type</th>\n",
              "      <th>free_text</th>\n",
              "      <th>user</th>\n",
              "      <th>feedback_title</th>\n",
              "      <th>subrating</th>\n",
              "    </tr>\n",
              "  </thead>\n",
              "  <tbody>\n",
              "    <tr>\n",
              "      <th>0</th>\n",
              "      <td>950009</td>\n",
              "      <td>en</td>\n",
              "      <td>60330</td>\n",
              "      <td>5</td>\n",
              "      <td>review</td>\n",
              "      <td>The room was clean and comfortable. I had a gr...</td>\n",
              "      <td>None</td>\n",
              "      <td>Good stay good value</td>\n",
              "      <td>[]</td>\n",
              "    </tr>\n",
              "    <tr>\n",
              "      <th>1</th>\n",
              "      <td>175995</td>\n",
              "      <td>en</td>\n",
              "      <td>60330</td>\n",
              "      <td>5</td>\n",
              "      <td>review</td>\n",
              "      <td>The staff was friendly and helpful. They made ...</td>\n",
              "      <td>None</td>\n",
              "      <td>Excellent</td>\n",
              "      <td>[]</td>\n",
              "    </tr>\n",
              "    <tr>\n",
              "      <th>2</th>\n",
              "      <td>922855</td>\n",
              "      <td>en</td>\n",
              "      <td>60330</td>\n",
              "      <td>5</td>\n",
              "      <td>review</td>\n",
              "      <td>The hotel had a great rooftop bar with stunnin...</td>\n",
              "      <td>None</td>\n",
              "      <td>Excellent</td>\n",
              "      <td>[]</td>\n",
              "    </tr>\n",
              "    <tr>\n",
              "      <th>3</th>\n",
              "      <td>27080</td>\n",
              "      <td>en</td>\n",
              "      <td>60330</td>\n",
              "      <td>5</td>\n",
              "      <td>review</td>\n",
              "      <td>The breakfast buffet was delicious and had a g...</td>\n",
              "      <td>None</td>\n",
              "      <td>Excellent place to stay</td>\n",
              "      <td>[]</td>\n",
              "    </tr>\n",
              "    <tr>\n",
              "      <th>4</th>\n",
              "      <td>905095</td>\n",
              "      <td>en</td>\n",
              "      <td>60330</td>\n",
              "      <td>4</td>\n",
              "      <td>review</td>\n",
              "      <td>The location of the hotel was perfect for a be...</td>\n",
              "      <td>None</td>\n",
              "      <td>Enjoyed the Stay</td>\n",
              "      <td>[]</td>\n",
              "    </tr>\n",
              "    <tr>\n",
              "      <th>5</th>\n",
              "      <td>255483</td>\n",
              "      <td>en</td>\n",
              "      <td>60330</td>\n",
              "      <td>5</td>\n",
              "      <td>review</td>\n",
              "      <td>The hotel had a great gym and pool. I was able...</td>\n",
              "      <td>None</td>\n",
              "      <td>Nice place to visit</td>\n",
              "      <td>[]</td>\n",
              "    </tr>\n",
              "    <tr>\n",
              "      <th>6</th>\n",
              "      <td>716852</td>\n",
              "      <td>fr</td>\n",
              "      <td>60330</td>\n",
              "      <td>5</td>\n",
              "      <td>review</td>\n",
              "      <td>The breakfast buffet was delicious and had a g...</td>\n",
              "      <td>None</td>\n",
              "      <td>Une excellente surprise une fois que l'on a tr...</td>\n",
              "      <td>[]</td>\n",
              "    </tr>\n",
              "  </tbody>\n",
              "</table>\n",
              "</div>\n",
              "      <button class=\"colab-df-convert\" onclick=\"convertToInteractive('df-ff77a754-a12c-4026-ba45-a2b2b2647372')\"\n",
              "              title=\"Convert this dataframe to an interactive table.\"\n",
              "              style=\"display:none;\">\n",
              "        \n",
              "  <svg xmlns=\"http://www.w3.org/2000/svg\" height=\"24px\"viewBox=\"0 0 24 24\"\n",
              "       width=\"24px\">\n",
              "    <path d=\"M0 0h24v24H0V0z\" fill=\"none\"/>\n",
              "    <path d=\"M18.56 5.44l.94 2.06.94-2.06 2.06-.94-2.06-.94-.94-2.06-.94 2.06-2.06.94zm-11 1L8.5 8.5l.94-2.06 2.06-.94-2.06-.94L8.5 2.5l-.94 2.06-2.06.94zm10 10l.94 2.06.94-2.06 2.06-.94-2.06-.94-.94-2.06-.94 2.06-2.06.94z\"/><path d=\"M17.41 7.96l-1.37-1.37c-.4-.4-.92-.59-1.43-.59-.52 0-1.04.2-1.43.59L10.3 9.45l-7.72 7.72c-.78.78-.78 2.05 0 2.83L4 21.41c.39.39.9.59 1.41.59.51 0 1.02-.2 1.41-.59l7.78-7.78 2.81-2.81c.8-.78.8-2.07 0-2.86zM5.41 20L4 18.59l7.72-7.72 1.47 1.35L5.41 20z\"/>\n",
              "  </svg>\n",
              "      </button>\n",
              "      \n",
              "  <style>\n",
              "    .colab-df-container {\n",
              "      display:flex;\n",
              "      flex-wrap:wrap;\n",
              "      gap: 12px;\n",
              "    }\n",
              "\n",
              "    .colab-df-convert {\n",
              "      background-color: #E8F0FE;\n",
              "      border: none;\n",
              "      border-radius: 50%;\n",
              "      cursor: pointer;\n",
              "      display: none;\n",
              "      fill: #1967D2;\n",
              "      height: 32px;\n",
              "      padding: 0 0 0 0;\n",
              "      width: 32px;\n",
              "    }\n",
              "\n",
              "    .colab-df-convert:hover {\n",
              "      background-color: #E2EBFA;\n",
              "      box-shadow: 0px 1px 2px rgba(60, 64, 67, 0.3), 0px 1px 3px 1px rgba(60, 64, 67, 0.15);\n",
              "      fill: #174EA6;\n",
              "    }\n",
              "\n",
              "    [theme=dark] .colab-df-convert {\n",
              "      background-color: #3B4455;\n",
              "      fill: #D2E3FC;\n",
              "    }\n",
              "\n",
              "    [theme=dark] .colab-df-convert:hover {\n",
              "      background-color: #434B5C;\n",
              "      box-shadow: 0px 1px 3px 1px rgba(0, 0, 0, 0.15);\n",
              "      filter: drop-shadow(0px 1px 2px rgba(0, 0, 0, 0.3));\n",
              "      fill: #FFFFFF;\n",
              "    }\n",
              "  </style>\n",
              "\n",
              "      <script>\n",
              "        const buttonEl =\n",
              "          document.querySelector('#df-ff77a754-a12c-4026-ba45-a2b2b2647372 button.colab-df-convert');\n",
              "        buttonEl.style.display =\n",
              "          google.colab.kernel.accessAllowed ? 'block' : 'none';\n",
              "\n",
              "        async function convertToInteractive(key) {\n",
              "          const element = document.querySelector('#df-ff77a754-a12c-4026-ba45-a2b2b2647372');\n",
              "          const dataTable =\n",
              "            await google.colab.kernel.invokeFunction('convertToInteractive',\n",
              "                                                     [key], {});\n",
              "          if (!dataTable) return;\n",
              "\n",
              "          const docLinkHtml = 'Like what you see? Visit the ' +\n",
              "            '<a target=\"_blank\" href=https://colab.research.google.com/notebooks/data_table.ipynb>data table notebook</a>'\n",
              "            + ' to learn more about interactive tables.';\n",
              "          element.innerHTML = '';\n",
              "          dataTable['output_type'] = 'display_data';\n",
              "          await google.colab.output.renderOutput(dataTable, element);\n",
              "          const docLink = document.createElement('div');\n",
              "          docLink.innerHTML = docLinkHtml;\n",
              "          element.appendChild(docLink);\n",
              "        }\n",
              "      </script>\n",
              "    </div>\n",
              "  </div>\n",
              "  "
            ]
          },
          "metadata": {},
          "execution_count": 268
        }
      ]
    },
    {
      "cell_type": "code",
      "source": [
        "pd.json_normalize(df['feedback'][6])"
      ],
      "metadata": {
        "colab": {
          "base_uri": "https://localhost:8080/",
          "height": 641
        },
        "id": "2DHfZFLHMmzw",
        "outputId": "44e105bc-fa4f-44e0-91ca-5aa2fff49b88"
      },
      "execution_count": null,
      "outputs": [
        {
          "output_type": "execute_result",
          "data": {
            "text/plain": [
              "        pid lang  loc_id rating en_type  \\\n",
              "0    448436   en   43477      5  review   \n",
              "1    544695   en   43477      5  review   \n",
              "2    873510   en   43477      5  review   \n",
              "3    768620   en   43477      5  review   \n",
              "4    609843   en   43477      5  review   \n",
              "..      ...  ...     ...    ...     ...   \n",
              "115  767682   en   43477      5  review   \n",
              "116  886320   en   43477      5  review   \n",
              "117  723781   en   43477      5  review   \n",
              "118  575760   en   43477      5  review   \n",
              "119   86556   en   43477      5  review   \n",
              "\n",
              "                                             free_text  user  \\\n",
              "0    The location of the hotel was perfect for expl...  None   \n",
              "1    The Sapphire Hotel was a great place to stay. ...  None   \n",
              "2    The hotel had a great rooftop pool with stunni...  None   \n",
              "3    The staff was friendly and helpful. They made ...  None   \n",
              "4    The location of the hotel was perfect for a be...  None   \n",
              "..                                                 ...   ...   \n",
              "115  The location of the hotel was perfect for expl...  None   \n",
              "116  The hotel had a great rooftop pool with stunni...  None   \n",
              "117  I had a great stay at the Royal Palace Hotel. ...  None   \n",
              "118  The Royal Garden Hotel was a beautiful place t...  None   \n",
              "119  The hotel had a great rooftop bar with stunnin...  None   \n",
              "\n",
              "                                        feedback_title  \\\n",
              "0                         Nice Homestay away from Home   \n",
              "1                        Truly a farm in a valley... !   \n",
              "2                                  Great place to stay   \n",
              "3                                                 Nice   \n",
              "4                                  Best place to stay.   \n",
              "..                                                 ...   \n",
              "115  An affordable home stay with adventurous trekk...   \n",
              "116  An awesome stay and host on the lap of scenic ...   \n",
              "117                      Awsome stay on a budget rate.   \n",
              "118                                   magnificent stay   \n",
              "119               Wonderful homestay, wonderful hosts.   \n",
              "\n",
              "                                             subrating  \n",
              "0                                                   []  \n",
              "1    [{'name': 'Value', 'value': '5'}, {'name': 'Lo...  \n",
              "2    [{'name': 'Value', 'value': '5'}, {'name': 'Lo...  \n",
              "3                                                   []  \n",
              "4                                                   []  \n",
              "..                                                 ...  \n",
              "115                                                 []  \n",
              "116  [{'name': 'Location', 'value': '5'}, {'name': ...  \n",
              "117                                                 []  \n",
              "118  [{'name': 'Value', 'value': '5'}, {'name': 'Lo...  \n",
              "119  [{'name': 'Location', 'value': '5'}, {'name': ...  \n",
              "\n",
              "[120 rows x 9 columns]"
            ],
            "text/html": [
              "\n",
              "  <div id=\"df-4fa1f315-e995-4352-ba12-3609345d4ad9\">\n",
              "    <div class=\"colab-df-container\">\n",
              "      <div>\n",
              "<style scoped>\n",
              "    .dataframe tbody tr th:only-of-type {\n",
              "        vertical-align: middle;\n",
              "    }\n",
              "\n",
              "    .dataframe tbody tr th {\n",
              "        vertical-align: top;\n",
              "    }\n",
              "\n",
              "    .dataframe thead th {\n",
              "        text-align: right;\n",
              "    }\n",
              "</style>\n",
              "<table border=\"1\" class=\"dataframe\">\n",
              "  <thead>\n",
              "    <tr style=\"text-align: right;\">\n",
              "      <th></th>\n",
              "      <th>pid</th>\n",
              "      <th>lang</th>\n",
              "      <th>loc_id</th>\n",
              "      <th>rating</th>\n",
              "      <th>en_type</th>\n",
              "      <th>free_text</th>\n",
              "      <th>user</th>\n",
              "      <th>feedback_title</th>\n",
              "      <th>subrating</th>\n",
              "    </tr>\n",
              "  </thead>\n",
              "  <tbody>\n",
              "    <tr>\n",
              "      <th>0</th>\n",
              "      <td>448436</td>\n",
              "      <td>en</td>\n",
              "      <td>43477</td>\n",
              "      <td>5</td>\n",
              "      <td>review</td>\n",
              "      <td>The location of the hotel was perfect for expl...</td>\n",
              "      <td>None</td>\n",
              "      <td>Nice Homestay away from Home</td>\n",
              "      <td>[]</td>\n",
              "    </tr>\n",
              "    <tr>\n",
              "      <th>1</th>\n",
              "      <td>544695</td>\n",
              "      <td>en</td>\n",
              "      <td>43477</td>\n",
              "      <td>5</td>\n",
              "      <td>review</td>\n",
              "      <td>The Sapphire Hotel was a great place to stay. ...</td>\n",
              "      <td>None</td>\n",
              "      <td>Truly a farm in a valley... !</td>\n",
              "      <td>[{'name': 'Value', 'value': '5'}, {'name': 'Lo...</td>\n",
              "    </tr>\n",
              "    <tr>\n",
              "      <th>2</th>\n",
              "      <td>873510</td>\n",
              "      <td>en</td>\n",
              "      <td>43477</td>\n",
              "      <td>5</td>\n",
              "      <td>review</td>\n",
              "      <td>The hotel had a great rooftop pool with stunni...</td>\n",
              "      <td>None</td>\n",
              "      <td>Great place to stay</td>\n",
              "      <td>[{'name': 'Value', 'value': '5'}, {'name': 'Lo...</td>\n",
              "    </tr>\n",
              "    <tr>\n",
              "      <th>3</th>\n",
              "      <td>768620</td>\n",
              "      <td>en</td>\n",
              "      <td>43477</td>\n",
              "      <td>5</td>\n",
              "      <td>review</td>\n",
              "      <td>The staff was friendly and helpful. They made ...</td>\n",
              "      <td>None</td>\n",
              "      <td>Nice</td>\n",
              "      <td>[]</td>\n",
              "    </tr>\n",
              "    <tr>\n",
              "      <th>4</th>\n",
              "      <td>609843</td>\n",
              "      <td>en</td>\n",
              "      <td>43477</td>\n",
              "      <td>5</td>\n",
              "      <td>review</td>\n",
              "      <td>The location of the hotel was perfect for a be...</td>\n",
              "      <td>None</td>\n",
              "      <td>Best place to stay.</td>\n",
              "      <td>[]</td>\n",
              "    </tr>\n",
              "    <tr>\n",
              "      <th>...</th>\n",
              "      <td>...</td>\n",
              "      <td>...</td>\n",
              "      <td>...</td>\n",
              "      <td>...</td>\n",
              "      <td>...</td>\n",
              "      <td>...</td>\n",
              "      <td>...</td>\n",
              "      <td>...</td>\n",
              "      <td>...</td>\n",
              "    </tr>\n",
              "    <tr>\n",
              "      <th>115</th>\n",
              "      <td>767682</td>\n",
              "      <td>en</td>\n",
              "      <td>43477</td>\n",
              "      <td>5</td>\n",
              "      <td>review</td>\n",
              "      <td>The location of the hotel was perfect for expl...</td>\n",
              "      <td>None</td>\n",
              "      <td>An affordable home stay with adventurous trekk...</td>\n",
              "      <td>[]</td>\n",
              "    </tr>\n",
              "    <tr>\n",
              "      <th>116</th>\n",
              "      <td>886320</td>\n",
              "      <td>en</td>\n",
              "      <td>43477</td>\n",
              "      <td>5</td>\n",
              "      <td>review</td>\n",
              "      <td>The hotel had a great rooftop pool with stunni...</td>\n",
              "      <td>None</td>\n",
              "      <td>An awesome stay and host on the lap of scenic ...</td>\n",
              "      <td>[{'name': 'Location', 'value': '5'}, {'name': ...</td>\n",
              "    </tr>\n",
              "    <tr>\n",
              "      <th>117</th>\n",
              "      <td>723781</td>\n",
              "      <td>en</td>\n",
              "      <td>43477</td>\n",
              "      <td>5</td>\n",
              "      <td>review</td>\n",
              "      <td>I had a great stay at the Royal Palace Hotel. ...</td>\n",
              "      <td>None</td>\n",
              "      <td>Awsome stay on a budget rate.</td>\n",
              "      <td>[]</td>\n",
              "    </tr>\n",
              "    <tr>\n",
              "      <th>118</th>\n",
              "      <td>575760</td>\n",
              "      <td>en</td>\n",
              "      <td>43477</td>\n",
              "      <td>5</td>\n",
              "      <td>review</td>\n",
              "      <td>The Royal Garden Hotel was a beautiful place t...</td>\n",
              "      <td>None</td>\n",
              "      <td>magnificent stay</td>\n",
              "      <td>[{'name': 'Value', 'value': '5'}, {'name': 'Lo...</td>\n",
              "    </tr>\n",
              "    <tr>\n",
              "      <th>119</th>\n",
              "      <td>86556</td>\n",
              "      <td>en</td>\n",
              "      <td>43477</td>\n",
              "      <td>5</td>\n",
              "      <td>review</td>\n",
              "      <td>The hotel had a great rooftop bar with stunnin...</td>\n",
              "      <td>None</td>\n",
              "      <td>Wonderful homestay, wonderful hosts.</td>\n",
              "      <td>[{'name': 'Location', 'value': '5'}, {'name': ...</td>\n",
              "    </tr>\n",
              "  </tbody>\n",
              "</table>\n",
              "<p>120 rows × 9 columns</p>\n",
              "</div>\n",
              "      <button class=\"colab-df-convert\" onclick=\"convertToInteractive('df-4fa1f315-e995-4352-ba12-3609345d4ad9')\"\n",
              "              title=\"Convert this dataframe to an interactive table.\"\n",
              "              style=\"display:none;\">\n",
              "        \n",
              "  <svg xmlns=\"http://www.w3.org/2000/svg\" height=\"24px\"viewBox=\"0 0 24 24\"\n",
              "       width=\"24px\">\n",
              "    <path d=\"M0 0h24v24H0V0z\" fill=\"none\"/>\n",
              "    <path d=\"M18.56 5.44l.94 2.06.94-2.06 2.06-.94-2.06-.94-.94-2.06-.94 2.06-2.06.94zm-11 1L8.5 8.5l.94-2.06 2.06-.94-2.06-.94L8.5 2.5l-.94 2.06-2.06.94zm10 10l.94 2.06.94-2.06 2.06-.94-2.06-.94-.94-2.06-.94 2.06-2.06.94z\"/><path d=\"M17.41 7.96l-1.37-1.37c-.4-.4-.92-.59-1.43-.59-.52 0-1.04.2-1.43.59L10.3 9.45l-7.72 7.72c-.78.78-.78 2.05 0 2.83L4 21.41c.39.39.9.59 1.41.59.51 0 1.02-.2 1.41-.59l7.78-7.78 2.81-2.81c.8-.78.8-2.07 0-2.86zM5.41 20L4 18.59l7.72-7.72 1.47 1.35L5.41 20z\"/>\n",
              "  </svg>\n",
              "      </button>\n",
              "      \n",
              "  <style>\n",
              "    .colab-df-container {\n",
              "      display:flex;\n",
              "      flex-wrap:wrap;\n",
              "      gap: 12px;\n",
              "    }\n",
              "\n",
              "    .colab-df-convert {\n",
              "      background-color: #E8F0FE;\n",
              "      border: none;\n",
              "      border-radius: 50%;\n",
              "      cursor: pointer;\n",
              "      display: none;\n",
              "      fill: #1967D2;\n",
              "      height: 32px;\n",
              "      padding: 0 0 0 0;\n",
              "      width: 32px;\n",
              "    }\n",
              "\n",
              "    .colab-df-convert:hover {\n",
              "      background-color: #E2EBFA;\n",
              "      box-shadow: 0px 1px 2px rgba(60, 64, 67, 0.3), 0px 1px 3px 1px rgba(60, 64, 67, 0.15);\n",
              "      fill: #174EA6;\n",
              "    }\n",
              "\n",
              "    [theme=dark] .colab-df-convert {\n",
              "      background-color: #3B4455;\n",
              "      fill: #D2E3FC;\n",
              "    }\n",
              "\n",
              "    [theme=dark] .colab-df-convert:hover {\n",
              "      background-color: #434B5C;\n",
              "      box-shadow: 0px 1px 3px 1px rgba(0, 0, 0, 0.15);\n",
              "      filter: drop-shadow(0px 1px 2px rgba(0, 0, 0, 0.3));\n",
              "      fill: #FFFFFF;\n",
              "    }\n",
              "  </style>\n",
              "\n",
              "      <script>\n",
              "        const buttonEl =\n",
              "          document.querySelector('#df-4fa1f315-e995-4352-ba12-3609345d4ad9 button.colab-df-convert');\n",
              "        buttonEl.style.display =\n",
              "          google.colab.kernel.accessAllowed ? 'block' : 'none';\n",
              "\n",
              "        async function convertToInteractive(key) {\n",
              "          const element = document.querySelector('#df-4fa1f315-e995-4352-ba12-3609345d4ad9');\n",
              "          const dataTable =\n",
              "            await google.colab.kernel.invokeFunction('convertToInteractive',\n",
              "                                                     [key], {});\n",
              "          if (!dataTable) return;\n",
              "\n",
              "          const docLinkHtml = 'Like what you see? Visit the ' +\n",
              "            '<a target=\"_blank\" href=https://colab.research.google.com/notebooks/data_table.ipynb>data table notebook</a>'\n",
              "            + ' to learn more about interactive tables.';\n",
              "          element.innerHTML = '';\n",
              "          dataTable['output_type'] = 'display_data';\n",
              "          await google.colab.output.renderOutput(dataTable, element);\n",
              "          const docLink = document.createElement('div');\n",
              "          docLink.innerHTML = docLinkHtml;\n",
              "          element.appendChild(docLink);\n",
              "        }\n",
              "      </script>\n",
              "    </div>\n",
              "  </div>\n",
              "  "
            ]
          },
          "metadata": {},
          "execution_count": 269
        }
      ]
    },
    {
      "cell_type": "code",
      "source": [
        "df.info()"
      ],
      "metadata": {
        "colab": {
          "base_uri": "https://localhost:8080/"
        },
        "id": "OAkuaL5iOEWE",
        "outputId": "e6952d15-8f4f-4f7e-8f16-0e5b6bb4f6a0"
      },
      "execution_count": null,
      "outputs": [
        {
          "output_type": "stream",
          "name": "stdout",
          "text": [
            "<class 'pandas.core.frame.DataFrame'>\n",
            "RangeIndex: 12 entries, 0 to 11\n",
            "Data columns (total 11 columns):\n",
            " #   Column             Non-Null Count  Dtype  \n",
            "---  ------             --------------  -----  \n",
            " 0   loc_id             12 non-null     int64  \n",
            " 1   en_type            12 non-null     object \n",
            " 2   name               12 non-null     object \n",
            " 3   category           12 non-null     object \n",
            " 4   agg_rating         10 non-null     float64\n",
            " 5   lat                12 non-null     float64\n",
            " 6   long               12 non-null     float64\n",
            " 7   numberOfFeedbacks  12 non-null     int64  \n",
            " 8   feedback           12 non-null     object \n",
            " 9   MIN_price          12 non-null     float64\n",
            " 10  Max_price          12 non-null     float64\n",
            "dtypes: float64(5), int64(2), object(4)\n",
            "memory usage: 1.2+ KB\n"
          ]
        }
      ]
    },
    {
      "cell_type": "markdown",
      "source": [
        "- Data Type Conversion:\n",
        "\n",
        "Ensure that the data types of each column are appropriate. For example, if 'min_price' is stored as a string, we can convert it to an integer using"
      ],
      "metadata": {
        "id": "UaDTTz_ZOrTj"
      }
    },
    {
      "cell_type": "code",
      "source": [
        "df.info()"
      ],
      "metadata": {
        "colab": {
          "base_uri": "https://localhost:8080/"
        },
        "id": "J72Y-WZ3QLY5",
        "outputId": "ed048a6c-b8d9-48d0-f343-4e01921776b5"
      },
      "execution_count": null,
      "outputs": [
        {
          "output_type": "stream",
          "name": "stdout",
          "text": [
            "<class 'pandas.core.frame.DataFrame'>\n",
            "RangeIndex: 12 entries, 0 to 11\n",
            "Data columns (total 11 columns):\n",
            " #   Column             Non-Null Count  Dtype  \n",
            "---  ------             --------------  -----  \n",
            " 0   loc_id             12 non-null     int64  \n",
            " 1   en_type            12 non-null     object \n",
            " 2   name               12 non-null     object \n",
            " 3   category           12 non-null     object \n",
            " 4   agg_rating         10 non-null     float64\n",
            " 5   lat                12 non-null     float64\n",
            " 6   long               12 non-null     float64\n",
            " 7   numberOfFeedbacks  12 non-null     int64  \n",
            " 8   feedback           12 non-null     object \n",
            " 9   MIN_price          12 non-null     float64\n",
            " 10  Max_price          12 non-null     float64\n",
            "dtypes: float64(5), int64(2), object(4)\n",
            "memory usage: 1.2+ KB\n"
          ]
        }
      ]
    },
    {
      "cell_type": "markdown",
      "source": [
        "- Data Validation and Cleaning:\n",
        "\n",
        "Performing data validation checks to ensure the integrity of the data. For example, we can check if 'MIN_price' is always less than or equal to 'Max_price' and handle any inconsistencies accordingly."
      ],
      "metadata": {
        "id": "BKuTxJ5wQtOb"
      }
    },
    {
      "cell_type": "code",
      "source": [
        "df['MIN_price']<=df['Max_price']"
      ],
      "metadata": {
        "colab": {
          "base_uri": "https://localhost:8080/"
        },
        "id": "7tHqvGYVQytk",
        "outputId": "e20116ff-6ccc-4edd-807d-4171ea811e56"
      },
      "execution_count": null,
      "outputs": [
        {
          "output_type": "execute_result",
          "data": {
            "text/plain": [
              "0      True\n",
              "1     False\n",
              "2      True\n",
              "3      True\n",
              "4      True\n",
              "5      True\n",
              "6      True\n",
              "7      True\n",
              "8      True\n",
              "9      True\n",
              "10     True\n",
              "11     True\n",
              "dtype: bool"
            ]
          },
          "metadata": {},
          "execution_count": 272
        }
      ]
    },
    {
      "cell_type": "markdown",
      "source": [
        "### EDA on df dataframe"
      ],
      "metadata": {
        "id": "in1OvGFvjXUj"
      }
    },
    {
      "cell_type": "markdown",
      "source": [
        "- What is the typical price range for hotels in the dataset?\n",
        "- Are there any outliers or unusual patterns in the price distribution?"
      ],
      "metadata": {
        "id": "j3spaQRVjb3p"
      }
    },
    {
      "cell_type": "code",
      "source": [
        "sns.boxplot(df['MIN_price'])\n"
      ],
      "metadata": {
        "colab": {
          "base_uri": "https://localhost:8080/",
          "height": 448
        },
        "id": "SMe-yBhUjfUM",
        "outputId": "404794ff-68e5-46f2-d1e9-83a1cf23b5a9"
      },
      "execution_count": null,
      "outputs": [
        {
          "output_type": "execute_result",
          "data": {
            "text/plain": [
              "<Axes: >"
            ]
          },
          "metadata": {},
          "execution_count": 299
        },
        {
          "output_type": "display_data",
          "data": {
            "text/plain": [
              "<Figure size 640x480 with 1 Axes>"
            ],
            "image/png": "[encoded data removed]"
          },
          "metadata": {}
        }
      ]
    },
    {
      "cell_type": "code",
      "source": [
        "sns.boxplot(df['Max_price'])"
      ],
      "metadata": {
        "id": "Q3N1aYp4lQHm"
      },
      "execution_count": null,
      "outputs": []
    },
    {
      "cell_type": "code",
      "source": [
        "\n"
      ],
      "metadata": {
        "id": "iJaFUuMXlpOl"
      },
      "execution_count": null,
      "outputs": []
    },
    {
      "cell_type": "code",
      "source": [
        "#top hotels with high rating\n",
        "df[df['agg_rating']==5.0]['name']"
      ],
      "metadata": {
        "id": "sL9TNWYHmOAr",
        "colab": {
          "base_uri": "https://localhost:8080/"
        },
        "outputId": "45d35f4a-b420-4081-c59b-11f63e9676fa"
      },
      "execution_count": null,
      "outputs": [
        {
          "output_type": "execute_result",
          "data": {
            "text/plain": [
              "0     Royal Palace Hotel\n",
              "1       Ocean View Hotel\n",
              "2      Grand Plaza Hotel\n",
              "3      Sunset View Hotel\n",
              "6         Sapphire Hotel\n",
              "7         Paradise Hotel\n",
              "10     Blue Lagoon Hotel\n",
              "Name: name, dtype: object"
            ]
          },
          "metadata": {},
          "execution_count": 309
        }
      ]
    },
    {
      "cell_type": "code",
      "source": [],
      "metadata": {
        "id": "6yTZs97azY2N"
      },
      "execution_count": null,
      "outputs": []
    },
    {
      "cell_type": "markdown",
      "source": [
        "### Data Cleaning and preprocessing in feedback table"
      ],
      "metadata": {
        "id": "JxQ25bigTqrU"
      }
    },
    {
      "cell_type": "markdown",
      "source": [
        "- Dropping irrelevant columns and creating a new dataframe feedback_df"
      ],
      "metadata": {
        "id": "VMZsdebQWQR6"
      }
    },
    {
      "cell_type": "code",
      "source": [],
      "metadata": {
        "id": "XKaUdihCW_Ou"
      },
      "execution_count": null,
      "outputs": []
    },
    {
      "cell_type": "code",
      "source": [
        "new_df = pd.DataFrame()  # Create an empty DataFrame to store the normalized feedback data\n",
        "\n",
        "for i in range(df.shape[0]):\n",
        "    feedback_df = pd.json_normalize(df['feedback'][i])  # Normalize the feedback column for each row\n",
        "    columns_to_drop = ['en_type', 'user', 'subrating']\n",
        "    columns_exist = all(col in feedback_df.columns for col in columns_to_drop)\n",
        "\n",
        "    if columns_exist:\n",
        "        feedback_df = feedback_df.drop(columns_to_drop, axis=1)  # Drop the specified columns\n",
        "\n",
        "    new_df = new_df.append(feedback_df, ignore_index=True)  # Append the normalized feedback data to the new DataFrame\n",
        "\n",
        "# Print the resulting DataFrame\n",
        "print(new_df)\n",
        "\n"
      ],
      "metadata": {
        "colab": {
          "base_uri": "https://localhost:8080/"
        },
        "id": "KY7ShjioUGoB",
        "outputId": "59209da9-31ac-46dc-93fc-9017de3d8c76"
      },
      "execution_count": null,
      "outputs": [
        {
          "output_type": "stream",
          "name": "stdout",
          "text": [
            "        pid lang  loc_id rating  \\\n",
            "0    950009   en   60330      5   \n",
            "1    175995   en   60330      5   \n",
            "2    922855   en   60330      5   \n",
            "3     27080   en   60330      5   \n",
            "4    905095   en   60330      4   \n",
            "..      ...  ...     ...    ...   \n",
            "219  659558   en    9847      4   \n",
            "220   13698   ru    9847      5   \n",
            "221  715571   en   46638      5   \n",
            "222  196236   en   46638      5   \n",
            "223  218437   en   46638      5   \n",
            "\n",
            "                                             free_text  \\\n",
            "0    The room was clean and comfortable. I had a gr...   \n",
            "1    The staff was friendly and helpful. They made ...   \n",
            "2    The hotel had a great rooftop bar with stunnin...   \n",
            "3    The breakfast buffet was delicious and had a g...   \n",
            "4    The location of the hotel was perfect for a be...   \n",
            "..                                                 ...   \n",
            "219  The hotel had a great restaurant with deliciou...   \n",
            "220  The breakfast buffet was delicious and had a g...   \n",
            "221  The location of the hotel was perfect for a be...   \n",
            "222  The location of the hotel was perfect for a be...   \n",
            "223  The location of the hotel was perfect for a be...   \n",
            "\n",
            "                 feedback_title partner_attribution  \n",
            "0          Good stay good value                 NaN  \n",
            "1                     Excellent                 NaN  \n",
            "2                     Excellent                 NaN  \n",
            "3       Excellent place to stay                 NaN  \n",
            "4              Enjoyed the Stay                 NaN  \n",
            "..                          ...                 ...  \n",
            "219         Its very  fantastic                 NaN  \n",
            "220          Всем рекомендую!!                  NaN  \n",
            "221              A Perfect Stay                 NaN  \n",
            "222  Annus Homestay Ramakalmedu                 NaN  \n",
            "223                       super                 NaN  \n",
            "\n",
            "[224 rows x 7 columns]\n"
          ]
        },
        {
          "output_type": "stream",
          "name": "stderr",
          "text": [
            "<ipython-input-273-1c0bda3f1ad4>:11: FutureWarning: The frame.append method is deprecated and will be removed from pandas in a future version. Use pandas.concat instead.\n",
            "  new_df = new_df.append(feedback_df, ignore_index=True)  # Append the normalized feedback data to the new DataFrame\n",
            "<ipython-input-273-1c0bda3f1ad4>:11: FutureWarning: The frame.append method is deprecated and will be removed from pandas in a future version. Use pandas.concat instead.\n",
            "  new_df = new_df.append(feedback_df, ignore_index=True)  # Append the normalized feedback data to the new DataFrame\n",
            "<ipython-input-273-1c0bda3f1ad4>:11: FutureWarning: The frame.append method is deprecated and will be removed from pandas in a future version. Use pandas.concat instead.\n",
            "  new_df = new_df.append(feedback_df, ignore_index=True)  # Append the normalized feedback data to the new DataFrame\n",
            "<ipython-input-273-1c0bda3f1ad4>:11: FutureWarning: The frame.append method is deprecated and will be removed from pandas in a future version. Use pandas.concat instead.\n",
            "  new_df = new_df.append(feedback_df, ignore_index=True)  # Append the normalized feedback data to the new DataFrame\n",
            "<ipython-input-273-1c0bda3f1ad4>:11: FutureWarning: The frame.append method is deprecated and will be removed from pandas in a future version. Use pandas.concat instead.\n",
            "  new_df = new_df.append(feedback_df, ignore_index=True)  # Append the normalized feedback data to the new DataFrame\n",
            "<ipython-input-273-1c0bda3f1ad4>:11: FutureWarning: The frame.append method is deprecated and will be removed from pandas in a future version. Use pandas.concat instead.\n",
            "  new_df = new_df.append(feedback_df, ignore_index=True)  # Append the normalized feedback data to the new DataFrame\n",
            "<ipython-input-273-1c0bda3f1ad4>:11: FutureWarning: The frame.append method is deprecated and will be removed from pandas in a future version. Use pandas.concat instead.\n",
            "  new_df = new_df.append(feedback_df, ignore_index=True)  # Append the normalized feedback data to the new DataFrame\n",
            "<ipython-input-273-1c0bda3f1ad4>:11: FutureWarning: The frame.append method is deprecated and will be removed from pandas in a future version. Use pandas.concat instead.\n",
            "  new_df = new_df.append(feedback_df, ignore_index=True)  # Append the normalized feedback data to the new DataFrame\n",
            "<ipython-input-273-1c0bda3f1ad4>:11: FutureWarning: The frame.append method is deprecated and will be removed from pandas in a future version. Use pandas.concat instead.\n",
            "  new_df = new_df.append(feedback_df, ignore_index=True)  # Append the normalized feedback data to the new DataFrame\n",
            "<ipython-input-273-1c0bda3f1ad4>:11: FutureWarning: The frame.append method is deprecated and will be removed from pandas in a future version. Use pandas.concat instead.\n",
            "  new_df = new_df.append(feedback_df, ignore_index=True)  # Append the normalized feedback data to the new DataFrame\n",
            "<ipython-input-273-1c0bda3f1ad4>:11: FutureWarning: The frame.append method is deprecated and will be removed from pandas in a future version. Use pandas.concat instead.\n",
            "  new_df = new_df.append(feedback_df, ignore_index=True)  # Append the normalized feedback data to the new DataFrame\n",
            "<ipython-input-273-1c0bda3f1ad4>:11: FutureWarning: The frame.append method is deprecated and will be removed from pandas in a future version. Use pandas.concat instead.\n",
            "  new_df = new_df.append(feedback_df, ignore_index=True)  # Append the normalized feedback data to the new DataFrame\n"
          ]
        }
      ]
    },
    {
      "cell_type": "code",
      "source": [
        "feedback_df=pd.DataFrame(new_df)"
      ],
      "metadata": {
        "id": "97LF2RI1YUQV"
      },
      "execution_count": null,
      "outputs": []
    },
    {
      "cell_type": "code",
      "source": [
        "feedback_df.head()"
      ],
      "metadata": {
        "colab": {
          "base_uri": "https://localhost:8080/",
          "height": 206
        },
        "id": "v12rXuhkYl2l",
        "outputId": "d2472566-5232-48ba-b5d8-3c7fe6506b59"
      },
      "execution_count": null,
      "outputs": [
        {
          "output_type": "execute_result",
          "data": {
            "text/plain": [
              "      pid lang  loc_id rating  \\\n",
              "0  950009   en   60330      5   \n",
              "1  175995   en   60330      5   \n",
              "2  922855   en   60330      5   \n",
              "3   27080   en   60330      5   \n",
              "4  905095   en   60330      4   \n",
              "\n",
              "                                           free_text           feedback_title  \\\n",
              "0  The room was clean and comfortable. I had a gr...     Good stay good value   \n",
              "1  The staff was friendly and helpful. They made ...                Excellent   \n",
              "2  The hotel had a great rooftop bar with stunnin...                Excellent   \n",
              "3  The breakfast buffet was delicious and had a g...  Excellent place to stay   \n",
              "4  The location of the hotel was perfect for a be...         Enjoyed the Stay   \n",
              "\n",
              "  partner_attribution  \n",
              "0                 NaN  \n",
              "1                 NaN  \n",
              "2                 NaN  \n",
              "3                 NaN  \n",
              "4                 NaN  "
            ],
            "text/html": [
              "\n",
              "  <div id=\"df-2ad7dc89-588a-4e76-a5fe-a8d5c35b6f80\">\n",
              "    <div class=\"colab-df-container\">\n",
              "      <div>\n",
              "<style scoped>\n",
              "    .dataframe tbody tr th:only-of-type {\n",
              "        vertical-align: middle;\n",
              "    }\n",
              "\n",
              "    .dataframe tbody tr th {\n",
              "        vertical-align: top;\n",
              "    }\n",
              "\n",
              "    .dataframe thead th {\n",
              "        text-align: right;\n",
              "    }\n",
              "</style>\n",
              "<table border=\"1\" class=\"dataframe\">\n",
              "  <thead>\n",
              "    <tr style=\"text-align: right;\">\n",
              "      <th></th>\n",
              "      <th>pid</th>\n",
              "      <th>lang</th>\n",
              "      <th>loc_id</th>\n",
              "      <th>rating</th>\n",
              "      <th>free_text</th>\n",
              "      <th>feedback_title</th>\n",
              "      <th>partner_attribution</th>\n",
              "    </tr>\n",
              "  </thead>\n",
              "  <tbody>\n",
              "    <tr>\n",
              "      <th>0</th>\n",
              "      <td>950009</td>\n",
              "      <td>en</td>\n",
              "      <td>60330</td>\n",
              "      <td>5</td>\n",
              "      <td>The room was clean and comfortable. I had a gr...</td>\n",
              "      <td>Good stay good value</td>\n",
              "      <td>NaN</td>\n",
              "    </tr>\n",
              "    <tr>\n",
              "      <th>1</th>\n",
              "      <td>175995</td>\n",
              "      <td>en</td>\n",
              "      <td>60330</td>\n",
              "      <td>5</td>\n",
              "      <td>The staff was friendly and helpful. They made ...</td>\n",
              "      <td>Excellent</td>\n",
              "      <td>NaN</td>\n",
              "    </tr>\n",
              "    <tr>\n",
              "      <th>2</th>\n",
              "      <td>922855</td>\n",
              "      <td>en</td>\n",
              "      <td>60330</td>\n",
              "      <td>5</td>\n",
              "      <td>The hotel had a great rooftop bar with stunnin...</td>\n",
              "      <td>Excellent</td>\n",
              "      <td>NaN</td>\n",
              "    </tr>\n",
              "    <tr>\n",
              "      <th>3</th>\n",
              "      <td>27080</td>\n",
              "      <td>en</td>\n",
              "      <td>60330</td>\n",
              "      <td>5</td>\n",
              "      <td>The breakfast buffet was delicious and had a g...</td>\n",
              "      <td>Excellent place to stay</td>\n",
              "      <td>NaN</td>\n",
              "    </tr>\n",
              "    <tr>\n",
              "      <th>4</th>\n",
              "      <td>905095</td>\n",
              "      <td>en</td>\n",
              "      <td>60330</td>\n",
              "      <td>4</td>\n",
              "      <td>The location of the hotel was perfect for a be...</td>\n",
              "      <td>Enjoyed the Stay</td>\n",
              "      <td>NaN</td>\n",
              "    </tr>\n",
              "  </tbody>\n",
              "</table>\n",
              "</div>\n",
              "      <button class=\"colab-df-convert\" onclick=\"convertToInteractive('df-2ad7dc89-588a-4e76-a5fe-a8d5c35b6f80')\"\n",
              "              title=\"Convert this dataframe to an interactive table.\"\n",
              "              style=\"display:none;\">\n",
              "        \n",
              "  <svg xmlns=\"http://www.w3.org/2000/svg\" height=\"24px\"viewBox=\"0 0 24 24\"\n",
              "       width=\"24px\">\n",
              "    <path d=\"M0 0h24v24H0V0z\" fill=\"none\"/>\n",
              "    <path d=\"M18.56 5.44l.94 2.06.94-2.06 2.06-.94-2.06-.94-.94-2.06-.94 2.06-2.06.94zm-11 1L8.5 8.5l.94-2.06 2.06-.94-2.06-.94L8.5 2.5l-.94 2.06-2.06.94zm10 10l.94 2.06.94-2.06 2.06-.94-2.06-.94-.94-2.06-.94 2.06-2.06.94z\"/><path d=\"M17.41 7.96l-1.37-1.37c-.4-.4-.92-.59-1.43-.59-.52 0-1.04.2-1.43.59L10.3 9.45l-7.72 7.72c-.78.78-.78 2.05 0 2.83L4 21.41c.39.39.9.59 1.41.59.51 0 1.02-.2 1.41-.59l7.78-7.78 2.81-2.81c.8-.78.8-2.07 0-2.86zM5.41 20L4 18.59l7.72-7.72 1.47 1.35L5.41 20z\"/>\n",
              "  </svg>\n",
              "      </button>\n",
              "      \n",
              "  <style>\n",
              "    .colab-df-container {\n",
              "      display:flex;\n",
              "      flex-wrap:wrap;\n",
              "      gap: 12px;\n",
              "    }\n",
              "\n",
              "    .colab-df-convert {\n",
              "      background-color: #E8F0FE;\n",
              "      border: none;\n",
              "      border-radius: 50%;\n",
              "      cursor: pointer;\n",
              "      display: none;\n",
              "      fill: #1967D2;\n",
              "      height: 32px;\n",
              "      padding: 0 0 0 0;\n",
              "      width: 32px;\n",
              "    }\n",
              "\n",
              "    .colab-df-convert:hover {\n",
              "      background-color: #E2EBFA;\n",
              "      box-shadow: 0px 1px 2px rgba(60, 64, 67, 0.3), 0px 1px 3px 1px rgba(60, 64, 67, 0.15);\n",
              "      fill: #174EA6;\n",
              "    }\n",
              "\n",
              "    [theme=dark] .colab-df-convert {\n",
              "      background-color: #3B4455;\n",
              "      fill: #D2E3FC;\n",
              "    }\n",
              "\n",
              "    [theme=dark] .colab-df-convert:hover {\n",
              "      background-color: #434B5C;\n",
              "      box-shadow: 0px 1px 3px 1px rgba(0, 0, 0, 0.15);\n",
              "      filter: drop-shadow(0px 1px 2px rgba(0, 0, 0, 0.3));\n",
              "      fill: #FFFFFF;\n",
              "    }\n",
              "  </style>\n",
              "\n",
              "      <script>\n",
              "        const buttonEl =\n",
              "          document.querySelector('#df-2ad7dc89-588a-4e76-a5fe-a8d5c35b6f80 button.colab-df-convert');\n",
              "        buttonEl.style.display =\n",
              "          google.colab.kernel.accessAllowed ? 'block' : 'none';\n",
              "\n",
              "        async function convertToInteractive(key) {\n",
              "          const element = document.querySelector('#df-2ad7dc89-588a-4e76-a5fe-a8d5c35b6f80');\n",
              "          const dataTable =\n",
              "            await google.colab.kernel.invokeFunction('convertToInteractive',\n",
              "                                                     [key], {});\n",
              "          if (!dataTable) return;\n",
              "\n",
              "          const docLinkHtml = 'Like what you see? Visit the ' +\n",
              "            '<a target=\"_blank\" href=https://colab.research.google.com/notebooks/data_table.ipynb>data table notebook</a>'\n",
              "            + ' to learn more about interactive tables.';\n",
              "          element.innerHTML = '';\n",
              "          dataTable['output_type'] = 'display_data';\n",
              "          await google.colab.output.renderOutput(dataTable, element);\n",
              "          const docLink = document.createElement('div');\n",
              "          docLink.innerHTML = docLinkHtml;\n",
              "          element.appendChild(docLink);\n",
              "        }\n",
              "      </script>\n",
              "    </div>\n",
              "  </div>\n",
              "  "
            ]
          },
          "metadata": {},
          "execution_count": 275
        }
      ]
    },
    {
      "cell_type": "code",
      "source": [
        "#dropping column partner_attribution\n",
        "feedback_df.drop(columns=['partner_attribution'],inplace=True)"
      ],
      "metadata": {
        "id": "pGhsAMTsY09i"
      },
      "execution_count": null,
      "outputs": []
    },
    {
      "cell_type": "markdown",
      "source": [
        "- Renaming Column"
      ],
      "metadata": {
        "id": "x2PWEIiaZna4"
      }
    },
    {
      "cell_type": "code",
      "source": [
        "#renaming column frre_text to feedback\n",
        "feedback_df=feedback_df.rename(columns={'free_text':'feedback'})"
      ],
      "metadata": {
        "id": "aKGw_VpDZt1h"
      },
      "execution_count": null,
      "outputs": []
    },
    {
      "cell_type": "markdown",
      "source": [
        "### NLP Task"
      ],
      "metadata": {
        "id": "aElOFrl0cByl"
      }
    },
    {
      "cell_type": "code",
      "source": [
        "#importing libraries\n",
        "import nltk"
      ],
      "metadata": {
        "id": "IIIuWIXScFT4"
      },
      "execution_count": null,
      "outputs": []
    },
    {
      "cell_type": "code",
      "source": [
        "nltk.download('punkt')"
      ],
      "metadata": {
        "colab": {
          "base_uri": "https://localhost:8080/"
        },
        "id": "0wYUs4kYcPDd",
        "outputId": "0d2a37c9-d504-4b18-c7cb-9ee1a78384c6"
      },
      "execution_count": null,
      "outputs": [
        {
          "output_type": "stream",
          "name": "stderr",
          "text": [
            "[nltk_data] Downloading package punkt to /root/nltk_data...\n",
            "[nltk_data]   Package punkt is already up-to-date!\n"
          ]
        },
        {
          "output_type": "execute_result",
          "data": {
            "text/plain": [
              "True"
            ]
          },
          "metadata": {},
          "execution_count": 279
        }
      ]
    },
    {
      "cell_type": "code",
      "source": [
        "#creating a new column which counts the no of character in each feedback\n",
        "feedback_df['num_of_char']=feedback_df['feedback'].apply(lambda x: len(x))"
      ],
      "metadata": {
        "id": "YYZ1VHOtcW9-"
      },
      "execution_count": null,
      "outputs": []
    },
    {
      "cell_type": "code",
      "source": [
        "#creating a new column which counts the num of words in each feedback\n",
        "feedback_df['num_of_words']=feedback_df['feedback'].apply(lambda x:len(nltk.word_tokenize(x)) if isinstance(x,str) else 0)"
      ],
      "metadata": {
        "id": "X7I-yXcncge7"
      },
      "execution_count": null,
      "outputs": []
    },
    {
      "cell_type": "code",
      "source": [
        "\n",
        "\n",
        "\n",
        "# Check for non-null string values before applying sentence tokenizer\n",
        "feedback_df['num_of_sent'] = feedback_df['feedback'].apply(lambda x: len(nltk.sent_tokenize(x)) if isinstance(x, str) else 0)\n"
      ],
      "metadata": {
        "id": "Okx9EAFmcz5H"
      },
      "execution_count": null,
      "outputs": []
    },
    {
      "cell_type": "code",
      "source": [
        "feedback_df.head()"
      ],
      "metadata": {
        "colab": {
          "base_uri": "https://localhost:8080/",
          "height": 206
        },
        "id": "vYpObCtvc8hF",
        "outputId": "9810fa23-fea5-455e-bf99-6fcdb1628f79"
      },
      "execution_count": null,
      "outputs": [
        {
          "output_type": "execute_result",
          "data": {
            "text/plain": [
              "      pid lang  loc_id rating  \\\n",
              "0  950009   en   60330      5   \n",
              "1  175995   en   60330      5   \n",
              "2  922855   en   60330      5   \n",
              "3   27080   en   60330      5   \n",
              "4  905095   en   60330      4   \n",
              "\n",
              "                                            feedback           feedback_title  \\\n",
              "0  The room was clean and comfortable. I had a gr...     Good stay good value   \n",
              "1  The staff was friendly and helpful. They made ...                Excellent   \n",
              "2  The hotel had a great rooftop bar with stunnin...                Excellent   \n",
              "3  The breakfast buffet was delicious and had a g...  Excellent place to stay   \n",
              "4  The location of the hotel was perfect for a be...         Enjoyed the Stay   \n",
              "\n",
              "   num_of_char  num_of_words  num_of_sent  \n",
              "0          436            91           10  \n",
              "1          440            90           10  \n",
              "2          377            81            8  \n",
              "3          440            88            9  \n",
              "4          413            86            8  "
            ],
            "text/html": [
              "\n",
              "  <div id=\"df-4559db1a-583a-43c7-ae7a-3669a32aa16a\">\n",
              "    <div class=\"colab-df-container\">\n",
              "      <div>\n",
              "<style scoped>\n",
              "    .dataframe tbody tr th:only-of-type {\n",
              "        vertical-align: middle;\n",
              "    }\n",
              "\n",
              "    .dataframe tbody tr th {\n",
              "        vertical-align: top;\n",
              "    }\n",
              "\n",
              "    .dataframe thead th {\n",
              "        text-align: right;\n",
              "    }\n",
              "</style>\n",
              "<table border=\"1\" class=\"dataframe\">\n",
              "  <thead>\n",
              "    <tr style=\"text-align: right;\">\n",
              "      <th></th>\n",
              "      <th>pid</th>\n",
              "      <th>lang</th>\n",
              "      <th>loc_id</th>\n",
              "      <th>rating</th>\n",
              "      <th>feedback</th>\n",
              "      <th>feedback_title</th>\n",
              "      <th>num_of_char</th>\n",
              "      <th>num_of_words</th>\n",
              "      <th>num_of_sent</th>\n",
              "    </tr>\n",
              "  </thead>\n",
              "  <tbody>\n",
              "    <tr>\n",
              "      <th>0</th>\n",
              "      <td>950009</td>\n",
              "      <td>en</td>\n",
              "      <td>60330</td>\n",
              "      <td>5</td>\n",
              "      <td>The room was clean and comfortable. I had a gr...</td>\n",
              "      <td>Good stay good value</td>\n",
              "      <td>436</td>\n",
              "      <td>91</td>\n",
              "      <td>10</td>\n",
              "    </tr>\n",
              "    <tr>\n",
              "      <th>1</th>\n",
              "      <td>175995</td>\n",
              "      <td>en</td>\n",
              "      <td>60330</td>\n",
              "      <td>5</td>\n",
              "      <td>The staff was friendly and helpful. They made ...</td>\n",
              "      <td>Excellent</td>\n",
              "      <td>440</td>\n",
              "      <td>90</td>\n",
              "      <td>10</td>\n",
              "    </tr>\n",
              "    <tr>\n",
              "      <th>2</th>\n",
              "      <td>922855</td>\n",
              "      <td>en</td>\n",
              "      <td>60330</td>\n",
              "      <td>5</td>\n",
              "      <td>The hotel had a great rooftop bar with stunnin...</td>\n",
              "      <td>Excellent</td>\n",
              "      <td>377</td>\n",
              "      <td>81</td>\n",
              "      <td>8</td>\n",
              "    </tr>\n",
              "    <tr>\n",
              "      <th>3</th>\n",
              "      <td>27080</td>\n",
              "      <td>en</td>\n",
              "      <td>60330</td>\n",
              "      <td>5</td>\n",
              "      <td>The breakfast buffet was delicious and had a g...</td>\n",
              "      <td>Excellent place to stay</td>\n",
              "      <td>440</td>\n",
              "      <td>88</td>\n",
              "      <td>9</td>\n",
              "    </tr>\n",
              "    <tr>\n",
              "      <th>4</th>\n",
              "      <td>905095</td>\n",
              "      <td>en</td>\n",
              "      <td>60330</td>\n",
              "      <td>4</td>\n",
              "      <td>The location of the hotel was perfect for a be...</td>\n",
              "      <td>Enjoyed the Stay</td>\n",
              "      <td>413</td>\n",
              "      <td>86</td>\n",
              "      <td>8</td>\n",
              "    </tr>\n",
              "  </tbody>\n",
              "</table>\n",
              "</div>\n",
              "      <button class=\"colab-df-convert\" onclick=\"convertToInteractive('df-4559db1a-583a-43c7-ae7a-3669a32aa16a')\"\n",
              "              title=\"Convert this dataframe to an interactive table.\"\n",
              "              style=\"display:none;\">\n",
              "        \n",
              "  <svg xmlns=\"http://www.w3.org/2000/svg\" height=\"24px\"viewBox=\"0 0 24 24\"\n",
              "       width=\"24px\">\n",
              "    <path d=\"M0 0h24v24H0V0z\" fill=\"none\"/>\n",
              "    <path d=\"M18.56 5.44l.94 2.06.94-2.06 2.06-.94-2.06-.94-.94-2.06-.94 2.06-2.06.94zm-11 1L8.5 8.5l.94-2.06 2.06-.94-2.06-.94L8.5 2.5l-.94 2.06-2.06.94zm10 10l.94 2.06.94-2.06 2.06-.94-2.06-.94-.94-2.06-.94 2.06-2.06.94z\"/><path d=\"M17.41 7.96l-1.37-1.37c-.4-.4-.92-.59-1.43-.59-.52 0-1.04.2-1.43.59L10.3 9.45l-7.72 7.72c-.78.78-.78 2.05 0 2.83L4 21.41c.39.39.9.59 1.41.59.51 0 1.02-.2 1.41-.59l7.78-7.78 2.81-2.81c.8-.78.8-2.07 0-2.86zM5.41 20L4 18.59l7.72-7.72 1.47 1.35L5.41 20z\"/>\n",
              "  </svg>\n",
              "      </button>\n",
              "      \n",
              "  <style>\n",
              "    .colab-df-container {\n",
              "      display:flex;\n",
              "      flex-wrap:wrap;\n",
              "      gap: 12px;\n",
              "    }\n",
              "\n",
              "    .colab-df-convert {\n",
              "      background-color: #E8F0FE;\n",
              "      border: none;\n",
              "      border-radius: 50%;\n",
              "      cursor: pointer;\n",
              "      display: none;\n",
              "      fill: #1967D2;\n",
              "      height: 32px;\n",
              "      padding: 0 0 0 0;\n",
              "      width: 32px;\n",
              "    }\n",
              "\n",
              "    .colab-df-convert:hover {\n",
              "      background-color: #E2EBFA;\n",
              "      box-shadow: 0px 1px 2px rgba(60, 64, 67, 0.3), 0px 1px 3px 1px rgba(60, 64, 67, 0.15);\n",
              "      fill: #174EA6;\n",
              "    }\n",
              "\n",
              "    [theme=dark] .colab-df-convert {\n",
              "      background-color: #3B4455;\n",
              "      fill: #D2E3FC;\n",
              "    }\n",
              "\n",
              "    [theme=dark] .colab-df-convert:hover {\n",
              "      background-color: #434B5C;\n",
              "      box-shadow: 0px 1px 3px 1px rgba(0, 0, 0, 0.15);\n",
              "      filter: drop-shadow(0px 1px 2px rgba(0, 0, 0, 0.3));\n",
              "      fill: #FFFFFF;\n",
              "    }\n",
              "  </style>\n",
              "\n",
              "      <script>\n",
              "        const buttonEl =\n",
              "          document.querySelector('#df-4559db1a-583a-43c7-ae7a-3669a32aa16a button.colab-df-convert');\n",
              "        buttonEl.style.display =\n",
              "          google.colab.kernel.accessAllowed ? 'block' : 'none';\n",
              "\n",
              "        async function convertToInteractive(key) {\n",
              "          const element = document.querySelector('#df-4559db1a-583a-43c7-ae7a-3669a32aa16a');\n",
              "          const dataTable =\n",
              "            await google.colab.kernel.invokeFunction('convertToInteractive',\n",
              "                                                     [key], {});\n",
              "          if (!dataTable) return;\n",
              "\n",
              "          const docLinkHtml = 'Like what you see? Visit the ' +\n",
              "            '<a target=\"_blank\" href=https://colab.research.google.com/notebooks/data_table.ipynb>data table notebook</a>'\n",
              "            + ' to learn more about interactive tables.';\n",
              "          element.innerHTML = '';\n",
              "          dataTable['output_type'] = 'display_data';\n",
              "          await google.colab.output.renderOutput(dataTable, element);\n",
              "          const docLink = document.createElement('div');\n",
              "          docLink.innerHTML = docLinkHtml;\n",
              "          element.appendChild(docLink);\n",
              "        }\n",
              "      </script>\n",
              "    </div>\n",
              "  </div>\n",
              "  "
            ]
          },
          "metadata": {},
          "execution_count": 283
        }
      ]
    },
    {
      "cell_type": "code",
      "source": [
        "#checking columns\n",
        "feedback_df.columns"
      ],
      "metadata": {
        "colab": {
          "base_uri": "https://localhost:8080/"
        },
        "id": "dmWbdx-5efSZ",
        "outputId": "7b37898c-022e-4b47-de82-3df6914d1f6b"
      },
      "execution_count": null,
      "outputs": [
        {
          "output_type": "execute_result",
          "data": {
            "text/plain": [
              "Index(['pid', 'lang', 'loc_id', 'rating', 'feedback', 'feedback_title',\n",
              "       'num_of_char', 'num_of_words', 'num_of_sent'],\n",
              "      dtype='object')"
            ]
          },
          "metadata": {},
          "execution_count": 284
        }
      ]
    },
    {
      "cell_type": "code",
      "source": [
        "\n",
        "#converting in lower character\n",
        "feedback_df['feedback']=feedback_df['feedback'].str.lower()"
      ],
      "metadata": {
        "id": "YSKiLxjgflEN"
      },
      "execution_count": null,
      "outputs": []
    },
    {
      "cell_type": "code",
      "source": [
        "\n",
        "#word tokenization\n",
        "feedback_df['feedback']=feedback_df['feedback'].apply(lambda x:nltk.word_tokenize(x))"
      ],
      "metadata": {
        "id": "cSh9fcMZgFqa"
      },
      "execution_count": null,
      "outputs": []
    },
    {
      "cell_type": "code",
      "source": [
        "#importing libraries\n",
        "nltk.download('stopwords')\n",
        "from nltk.corpus import stopwords\n",
        "Stpwrds=stopwords.words('english')"
      ],
      "metadata": {
        "colab": {
          "base_uri": "https://localhost:8080/"
        },
        "id": "40RGTIjAgNtB",
        "outputId": "4a494afa-a236-4488-ef26-bcf7061a6c68"
      },
      "execution_count": null,
      "outputs": [
        {
          "output_type": "stream",
          "name": "stderr",
          "text": [
            "[nltk_data] Downloading package stopwords to /root/nltk_data...\n",
            "[nltk_data]   Unzipping corpora/stopwords.zip.\n"
          ]
        }
      ]
    },
    {
      "cell_type": "code",
      "source": [
        "import string\n",
        "string.punctuation"
      ],
      "metadata": {
        "colab": {
          "base_uri": "https://localhost:8080/",
          "height": 36
        },
        "id": "WzsxyKxcgUK7",
        "outputId": "cce54db5-119d-441e-9d59-3a174c60ee69"
      },
      "execution_count": null,
      "outputs": [
        {
          "output_type": "execute_result",
          "data": {
            "text/plain": [
              "'!\"#$%&\\'()*+,-./:;<=>?@[\\\\]^_`{|}~'"
            ],
            "application/vnd.google.colaboratory.intrinsic+json": {
              "type": "string"
            }
          },
          "metadata": {},
          "execution_count": 288
        }
      ]
    },
    {
      "cell_type": "code",
      "source": [
        "\n",
        "#removing stopwords\n",
        "feedback_df['feedback']=feedback_df['feedback'].apply(lambda x:[word for word in x if word not in Stpwrds])"
      ],
      "metadata": {
        "id": "sjC6Fs20gXkD"
      },
      "execution_count": null,
      "outputs": []
    },
    {
      "cell_type": "code",
      "source": [
        "#removing punctuation\n",
        "feedback_df['feedback']=feedback_df['feedback'].apply(lambda x:[word for word in x if word not in string.punctuation])"
      ],
      "metadata": {
        "id": "uvGvUzOTghfk"
      },
      "execution_count": null,
      "outputs": []
    },
    {
      "cell_type": "code",
      "source": [
        "nltk.download('wordnet')\n",
        "from nltk.stem import WordNetLemmatizer\n",
        "lematizer=WordNetLemmatizer()"
      ],
      "metadata": {
        "colab": {
          "base_uri": "https://localhost:8080/"
        },
        "id": "nCkGE9VmgpWI",
        "outputId": "d1c9cd88-52fa-415e-9699-38fe1f289e20"
      },
      "execution_count": null,
      "outputs": [
        {
          "output_type": "stream",
          "name": "stderr",
          "text": [
            "[nltk_data] Downloading package wordnet to /root/nltk_data...\n"
          ]
        }
      ]
    },
    {
      "cell_type": "code",
      "source": [
        "#lemmatzation\n",
        "feedback_df['feedback']=feedback_df['feedback'].apply(lambda x:[lematizer.lemmatize(word) for word in x ])"
      ],
      "metadata": {
        "id": "0gmj1_vcgxy2"
      },
      "execution_count": null,
      "outputs": []
    },
    {
      "cell_type": "code",
      "source": [
        "#converting list of words into strings\n",
        "feedback_df['feedback']=feedback_df['feedback'].apply(lambda x:\" \".join(x))"
      ],
      "metadata": {
        "id": "x_1IRE4Fg52q"
      },
      "execution_count": null,
      "outputs": []
    },
    {
      "cell_type": "code",
      "source": [
        "feedback_df.head()"
      ],
      "metadata": {
        "colab": {
          "base_uri": "https://localhost:8080/",
          "height": 206
        },
        "id": "SFPqQ-22iNMR",
        "outputId": "1fe38374-4cf0-4c16-b502-f5e11a09adca"
      },
      "execution_count": null,
      "outputs": [
        {
          "output_type": "execute_result",
          "data": {
            "text/plain": [
              "      pid lang  loc_id rating  \\\n",
              "0  950009   en   60330      5   \n",
              "1  175995   en   60330      5   \n",
              "2  922855   en   60330      5   \n",
              "3   27080   en   60330      5   \n",
              "4  905095   en   60330      4   \n",
              "\n",
              "                                            feedback           feedback_title  \\\n",
              "0  room clean comfortable great night 's sleep st...     Good stay good value   \n",
              "1  staff friendly helpful made sure everything ne...                Excellent   \n",
              "2  hotel great rooftop bar stunning view city eme...                Excellent   \n",
              "3  breakfast buffet delicious good variety option...  Excellent place to stay   \n",
              "4  location hotel perfect beach vacation beach sh...         Enjoyed the Stay   \n",
              "\n",
              "   num_of_char  num_of_words  num_of_sent  \n",
              "0          436            91           10  \n",
              "1          440            90           10  \n",
              "2          377            81            8  \n",
              "3          440            88            9  \n",
              "4          413            86            8  "
            ],
            "text/html": [
              "\n",
              "  <div id=\"df-03683443-ee1e-47c9-81f3-e665ebec668e\">\n",
              "    <div class=\"colab-df-container\">\n",
              "      <div>\n",
              "<style scoped>\n",
              "    .dataframe tbody tr th:only-of-type {\n",
              "        vertical-align: middle;\n",
              "    }\n",
              "\n",
              "    .dataframe tbody tr th {\n",
              "        vertical-align: top;\n",
              "    }\n",
              "\n",
              "    .dataframe thead th {\n",
              "        text-align: right;\n",
              "    }\n",
              "</style>\n",
              "<table border=\"1\" class=\"dataframe\">\n",
              "  <thead>\n",
              "    <tr style=\"text-align: right;\">\n",
              "      <th></th>\n",
              "      <th>pid</th>\n",
              "      <th>lang</th>\n",
              "      <th>loc_id</th>\n",
              "      <th>rating</th>\n",
              "      <th>feedback</th>\n",
              "      <th>feedback_title</th>\n",
              "      <th>num_of_char</th>\n",
              "      <th>num_of_words</th>\n",
              "      <th>num_of_sent</th>\n",
              "    </tr>\n",
              "  </thead>\n",
              "  <tbody>\n",
              "    <tr>\n",
              "      <th>0</th>\n",
              "      <td>950009</td>\n",
              "      <td>en</td>\n",
              "      <td>60330</td>\n",
              "      <td>5</td>\n",
              "      <td>room clean comfortable great night 's sleep st...</td>\n",
              "      <td>Good stay good value</td>\n",
              "      <td>436</td>\n",
              "      <td>91</td>\n",
              "      <td>10</td>\n",
              "    </tr>\n",
              "    <tr>\n",
              "      <th>1</th>\n",
              "      <td>175995</td>\n",
              "      <td>en</td>\n",
              "      <td>60330</td>\n",
              "      <td>5</td>\n",
              "      <td>staff friendly helpful made sure everything ne...</td>\n",
              "      <td>Excellent</td>\n",
              "      <td>440</td>\n",
              "      <td>90</td>\n",
              "      <td>10</td>\n",
              "    </tr>\n",
              "    <tr>\n",
              "      <th>2</th>\n",
              "      <td>922855</td>\n",
              "      <td>en</td>\n",
              "      <td>60330</td>\n",
              "      <td>5</td>\n",
              "      <td>hotel great rooftop bar stunning view city eme...</td>\n",
              "      <td>Excellent</td>\n",
              "      <td>377</td>\n",
              "      <td>81</td>\n",
              "      <td>8</td>\n",
              "    </tr>\n",
              "    <tr>\n",
              "      <th>3</th>\n",
              "      <td>27080</td>\n",
              "      <td>en</td>\n",
              "      <td>60330</td>\n",
              "      <td>5</td>\n",
              "      <td>breakfast buffet delicious good variety option...</td>\n",
              "      <td>Excellent place to stay</td>\n",
              "      <td>440</td>\n",
              "      <td>88</td>\n",
              "      <td>9</td>\n",
              "    </tr>\n",
              "    <tr>\n",
              "      <th>4</th>\n",
              "      <td>905095</td>\n",
              "      <td>en</td>\n",
              "      <td>60330</td>\n",
              "      <td>4</td>\n",
              "      <td>location hotel perfect beach vacation beach sh...</td>\n",
              "      <td>Enjoyed the Stay</td>\n",
              "      <td>413</td>\n",
              "      <td>86</td>\n",
              "      <td>8</td>\n",
              "    </tr>\n",
              "  </tbody>\n",
              "</table>\n",
              "</div>\n",
              "      <button class=\"colab-df-convert\" onclick=\"convertToInteractive('df-03683443-ee1e-47c9-81f3-e665ebec668e')\"\n",
              "              title=\"Convert this dataframe to an interactive table.\"\n",
              "              style=\"display:none;\">\n",
              "        \n",
              "  <svg xmlns=\"http://www.w3.org/2000/svg\" height=\"24px\"viewBox=\"0 0 24 24\"\n",
              "       width=\"24px\">\n",
              "    <path d=\"M0 0h24v24H0V0z\" fill=\"none\"/>\n",
              "    <path d=\"M18.56 5.44l.94 2.06.94-2.06 2.06-.94-2.06-.94-.94-2.06-.94 2.06-2.06.94zm-11 1L8.5 8.5l.94-2.06 2.06-.94-2.06-.94L8.5 2.5l-.94 2.06-2.06.94zm10 10l.94 2.06.94-2.06 2.06-.94-2.06-.94-.94-2.06-.94 2.06-2.06.94z\"/><path d=\"M17.41 7.96l-1.37-1.37c-.4-.4-.92-.59-1.43-.59-.52 0-1.04.2-1.43.59L10.3 9.45l-7.72 7.72c-.78.78-.78 2.05 0 2.83L4 21.41c.39.39.9.59 1.41.59.51 0 1.02-.2 1.41-.59l7.78-7.78 2.81-2.81c.8-.78.8-2.07 0-2.86zM5.41 20L4 18.59l7.72-7.72 1.47 1.35L5.41 20z\"/>\n",
              "  </svg>\n",
              "      </button>\n",
              "      \n",
              "  <style>\n",
              "    .colab-df-container {\n",
              "      display:flex;\n",
              "      flex-wrap:wrap;\n",
              "      gap: 12px;\n",
              "    }\n",
              "\n",
              "    .colab-df-convert {\n",
              "      background-color: #E8F0FE;\n",
              "      border: none;\n",
              "      border-radius: 50%;\n",
              "      cursor: pointer;\n",
              "      display: none;\n",
              "      fill: #1967D2;\n",
              "      height: 32px;\n",
              "      padding: 0 0 0 0;\n",
              "      width: 32px;\n",
              "    }\n",
              "\n",
              "    .colab-df-convert:hover {\n",
              "      background-color: #E2EBFA;\n",
              "      box-shadow: 0px 1px 2px rgba(60, 64, 67, 0.3), 0px 1px 3px 1px rgba(60, 64, 67, 0.15);\n",
              "      fill: #174EA6;\n",
              "    }\n",
              "\n",
              "    [theme=dark] .colab-df-convert {\n",
              "      background-color: #3B4455;\n",
              "      fill: #D2E3FC;\n",
              "    }\n",
              "\n",
              "    [theme=dark] .colab-df-convert:hover {\n",
              "      background-color: #434B5C;\n",
              "      box-shadow: 0px 1px 3px 1px rgba(0, 0, 0, 0.15);\n",
              "      filter: drop-shadow(0px 1px 2px rgba(0, 0, 0, 0.3));\n",
              "      fill: #FFFFFF;\n",
              "    }\n",
              "  </style>\n",
              "\n",
              "      <script>\n",
              "        const buttonEl =\n",
              "          document.querySelector('#df-03683443-ee1e-47c9-81f3-e665ebec668e button.colab-df-convert');\n",
              "        buttonEl.style.display =\n",
              "          google.colab.kernel.accessAllowed ? 'block' : 'none';\n",
              "\n",
              "        async function convertToInteractive(key) {\n",
              "          const element = document.querySelector('#df-03683443-ee1e-47c9-81f3-e665ebec668e');\n",
              "          const dataTable =\n",
              "            await google.colab.kernel.invokeFunction('convertToInteractive',\n",
              "                                                     [key], {});\n",
              "          if (!dataTable) return;\n",
              "\n",
              "          const docLinkHtml = 'Like what you see? Visit the ' +\n",
              "            '<a target=\"_blank\" href=https://colab.research.google.com/notebooks/data_table.ipynb>data table notebook</a>'\n",
              "            + ' to learn more about interactive tables.';\n",
              "          element.innerHTML = '';\n",
              "          dataTable['output_type'] = 'display_data';\n",
              "          await google.colab.output.renderOutput(dataTable, element);\n",
              "          const docLink = document.createElement('div');\n",
              "          docLink.innerHTML = docLinkHtml;\n",
              "          element.appendChild(docLink);\n",
              "        }\n",
              "      </script>\n",
              "    </div>\n",
              "  </div>\n",
              "  "
            ]
          },
          "metadata": {},
          "execution_count": 304
        }
      ]
    },
    {
      "cell_type": "code",
      "source": [
        "feedback_df.columns"
      ],
      "metadata": {
        "colab": {
          "base_uri": "https://localhost:8080/"
        },
        "id": "LGBZzqKEiV97",
        "outputId": "5e220f71-e3e8-4bcb-e4a6-7fef3b286c64"
      },
      "execution_count": null,
      "outputs": [
        {
          "output_type": "execute_result",
          "data": {
            "text/plain": [
              "Index(['pid', 'lang', 'loc_id', 'rating', 'feedback', 'feedback_title',\n",
              "       'num_of_char', 'num_of_words', 'num_of_sent'],\n",
              "      dtype='object')"
            ]
          },
          "metadata": {},
          "execution_count": 305
        }
      ]
    },
    {
      "cell_type": "markdown",
      "source": [
        "### WordCloud"
      ],
      "metadata": {
        "id": "JZl9EeXHntGy"
      }
    },
    {
      "cell_type": "code",
      "source": [
        "from wordcloud import WordCloud\n",
        "wc=WordCloud(width=500,height=500,min_font_size=10,background_color='white')"
      ],
      "metadata": {
        "id": "gXQ2kf5lm9R4"
      },
      "execution_count": null,
      "outputs": []
    },
    {
      "cell_type": "code",
      "source": [
        "#wordcloud for spam\n",
        "spam_wc=wc.generate(feedback_df['feedback'].str.cat(sep=\" \"))"
      ],
      "metadata": {
        "id": "C0u_zugKnKo8"
      },
      "execution_count": null,
      "outputs": []
    },
    {
      "cell_type": "code",
      "source": [
        "plt.imshow(spam_wc)"
      ],
      "metadata": {
        "colab": {
          "base_uri": "https://localhost:8080/",
          "height": 453
        },
        "id": "fybGkpXanbnl",
        "outputId": "be966bf7-dc7f-4421-d416-a1fbe5c30204"
      },
      "execution_count": null,
      "outputs": [
        {
          "output_type": "execute_result",
          "data": {
            "text/plain": [
              "<matplotlib.image.AxesImage at 0x7ff889b841f0>"
            ]
          },
          "metadata": {},
          "execution_count": 303
        },
        {
          "output_type": "display_data",
          "data": {
            "text/plain": [
              "<Figure size 640x480 with 1 Axes>"
            ],
            "image/png": "[encoded data removed]"
          },
          "metadata": {}
        }
      ]
    },
    {
      "cell_type": "markdown",
      "source": [
        "### Exporting data to sql database"
      ],
      "metadata": {
        "id": "D7in6gFo7Zca"
      }
    },
    {
      "cell_type": "code",
      "source": [
        "import pandas as pd\n",
        "import sqlite3\n",
        "\n",
        "#  preprocessed and cleaned data stored in a pandas DataFrame named 'feedback_df'\n",
        "\n",
        "# Create a connection to the SQLite database\n",
        "conn = sqlite3.connect('hotels.db')\n",
        "\n",
        "# Convert the DataFrame to an SQL table\n",
        "df.to_sql('hotel_data', conn, if_exists='replace', index=False)\n",
        "\n",
        "# Commit the changes and close the connection\n",
        "conn.commit()\n",
        "conn.close()\n"
      ],
      "metadata": {
        "id": "zglLqbU25OPu"
      },
      "execution_count": null,
      "outputs": []
    },
    {
      "cell_type": "code",
      "source": [
        "import pandas as pd\n",
        "import sqlite3\n",
        "\n",
        "#  preprocessed and cleaned data stored in a pandas DataFrame named 'feedback_df'\n",
        "\n",
        "# Create a connection to the SQLite database\n",
        "conn = sqlite3.connect('hotels.db')\n",
        "\n",
        "# Convert the DataFrame to an SQL table\n",
        "feedback_df.to_sql('hotel_feedback', conn, if_exists='replace', index=False)\n",
        "\n",
        "# Commit the changes and close the connection\n",
        "conn.commit()\n",
        "conn.close()"
      ],
      "metadata": {
        "id": "gs9WWi4S7ieN"
      },
      "execution_count": null,
      "outputs": []
    }
  ]
}